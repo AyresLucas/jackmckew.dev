{
 "cells": [
  {
   "cell_type": "code",
   "execution_count": 1,
   "metadata": {},
   "outputs": [
    {
     "output_type": "stream",
     "name": "stdout",
     "text": "tst\n"
    }
   ],
   "source": [
    "print('tst')"
   ]
  },
  {
   "cell_type": "code",
   "execution_count": 29,
   "metadata": {},
   "outputs": [
    {
     "output_type": "stream",
     "name": "stdout",
     "text": "[0, 1, 2, 3, 4]\n[5, 6, 7, 8, 9]\n[0, 1, 2]\n[10, 11, 12, 13, 14]\n"
    }
   ],
   "source": [
    "def load_big_data():\n",
    "    return range(100)\n",
    "\n",
    "def batch_process(chunksize):\n",
    "    from itertools import zip_longest\n",
    "\n",
    "    def grouper(n, iterable, fillvalue=None):\n",
    "        args = [iter(iterable)] * n\n",
    "        return zip_longest(fillvalue=fillvalue, *args)\n",
    "\n",
    "    data = load_big_data()\n",
    "\n",
    "    for i in grouper(chunksize,data):\n",
    "\n",
    "        yield list(i)\n",
    "\n",
    "batch_processor_1 = batch_process(5)\n",
    "batch_processor_2 = batch_process(3)\n",
    "\n",
    "print(next(batch_processor_1))\n",
    "print(next(batch_processor_1))\n",
    "print(next(batch_processor_2))\n",
    "print(next(batch_processor_1))"
   ]
  },
  {
   "cell_type": "code",
   "execution_count": 20,
   "metadata": {},
   "outputs": [
    {
     "output_type": "execute_result",
     "data": {
      "text/plain": "(0, 1, 2)"
     },
     "metadata": {},
     "execution_count": 20
    }
   ],
   "source": []
  },
  {
   "cell_type": "code",
   "execution_count": null,
   "metadata": {},
   "outputs": [],
   "source": []
  }
 ],
 "metadata": {
  "language_info": {
   "codemirror_mode": {
    "name": "ipython",
    "version": 3
   },
   "file_extension": ".py",
   "mimetype": "text/x-python",
   "name": "python",
   "nbconvert_exporter": "python",
   "pygments_lexer": "ipython3",
   "version": "3.8.1-final"
  },
  "orig_nbformat": 2,
  "kernelspec": {
   "name": "python38164bitenvvenv4f8789eb943d46e883b44ec31eb5ebd1",
   "display_name": "Python 3.8.1 64-bit ('.env': venv)"
  }
 },
 "nbformat": 4,
 "nbformat_minor": 2
}