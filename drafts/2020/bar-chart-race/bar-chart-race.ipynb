{
 "cells": [
  {
   "cell_type": "code",
   "execution_count": 1,
   "metadata": {},
   "outputs": [],
   "source": [
    "import pandas as pd\n",
    "import matplotlib.pyplot as plt\n",
    "import matplotlib.ticker as ticker\n",
    "import matplotlib.animation as animation\n",
    "from IPython.display import HTML\n",
    "import math\n",
    "import datetime"
   ]
  },
  {
   "cell_type": "code",
   "execution_count": 2,
   "metadata": {},
   "outputs": [
    {
     "output_type": "display_data",
     "data": {
      "text/plain": "  notification_date  postcode lhd_2010_code         lhd_2010_name  lga_code19  \\\n0        2020-01-22    2134.0          X700                Sydney     11300.0   \n1        2020-01-24    2121.0          X760       Northern Sydney     16260.0   \n2        2020-01-25    2071.0          X760       Northern Sydney     14500.0   \n3        2020-01-25    2033.0          X720  South Eastern Sydney     16550.0   \n4        2020-01-30    2350.0          X800    Hunter New England     10130.0   \n\n              lga_name19  \n0            Burwood (A)  \n1         Parramatta (C)  \n2        Ku-ring-gai (A)  \n3           Randwick (C)  \n4  Armidale Regional (A)  ",
      "text/html": "<div>\n<style scoped>\n    .dataframe tbody tr th:only-of-type {\n        vertical-align: middle;\n    }\n\n    .dataframe tbody tr th {\n        vertical-align: top;\n    }\n\n    .dataframe thead th {\n        text-align: right;\n    }\n</style>\n<table border=\"1\" class=\"dataframe\">\n  <thead>\n    <tr style=\"text-align: right;\">\n      <th></th>\n      <th>notification_date</th>\n      <th>postcode</th>\n      <th>lhd_2010_code</th>\n      <th>lhd_2010_name</th>\n      <th>lga_code19</th>\n      <th>lga_name19</th>\n    </tr>\n  </thead>\n  <tbody>\n    <tr>\n      <th>0</th>\n      <td>2020-01-22</td>\n      <td>2134.0</td>\n      <td>X700</td>\n      <td>Sydney</td>\n      <td>11300.0</td>\n      <td>Burwood (A)</td>\n    </tr>\n    <tr>\n      <th>1</th>\n      <td>2020-01-24</td>\n      <td>2121.0</td>\n      <td>X760</td>\n      <td>Northern Sydney</td>\n      <td>16260.0</td>\n      <td>Parramatta (C)</td>\n    </tr>\n    <tr>\n      <th>2</th>\n      <td>2020-01-25</td>\n      <td>2071.0</td>\n      <td>X760</td>\n      <td>Northern Sydney</td>\n      <td>14500.0</td>\n      <td>Ku-ring-gai (A)</td>\n    </tr>\n    <tr>\n      <th>3</th>\n      <td>2020-01-25</td>\n      <td>2033.0</td>\n      <td>X720</td>\n      <td>South Eastern Sydney</td>\n      <td>16550.0</td>\n      <td>Randwick (C)</td>\n    </tr>\n    <tr>\n      <th>4</th>\n      <td>2020-01-30</td>\n      <td>2350.0</td>\n      <td>X800</td>\n      <td>Hunter New England</td>\n      <td>10130.0</td>\n      <td>Armidale Regional (A)</td>\n    </tr>\n  </tbody>\n</table>\n</div>"
     },
     "metadata": {}
    }
   ],
   "source": [
    "df = pd.read_csv('data\\covid-19-cases-by-notification-date-and-postcode-local-health-district-and-local-government-area.csv')\n",
    "\n",
    "display(df.head(5))"
   ]
  },
  {
   "cell_type": "code",
   "execution_count": 3,
   "metadata": {},
   "outputs": [
    {
     "output_type": "display_data",
     "data": {
      "text/plain": "  notification_date  postcode lhd_2010_code         lhd_2010_name  lga_code19  \\\n0        2020-01-22    2134.0          X700                Sydney     11300.0   \n1        2020-01-24    2121.0          X760       Northern Sydney     16260.0   \n2        2020-01-25    2071.0          X760       Northern Sydney     14500.0   \n3        2020-01-25    2033.0          X720  South Eastern Sydney     16550.0   \n4        2020-01-30    2350.0          X800    Hunter New England     10130.0   \n\n              lga_name19  cases  \n0            Burwood (A)      1  \n1         Parramatta (C)      1  \n2        Ku-ring-gai (A)      1  \n3           Randwick (C)      1  \n4  Armidale Regional (A)      1  ",
      "text/html": "<div>\n<style scoped>\n    .dataframe tbody tr th:only-of-type {\n        vertical-align: middle;\n    }\n\n    .dataframe tbody tr th {\n        vertical-align: top;\n    }\n\n    .dataframe thead th {\n        text-align: right;\n    }\n</style>\n<table border=\"1\" class=\"dataframe\">\n  <thead>\n    <tr style=\"text-align: right;\">\n      <th></th>\n      <th>notification_date</th>\n      <th>postcode</th>\n      <th>lhd_2010_code</th>\n      <th>lhd_2010_name</th>\n      <th>lga_code19</th>\n      <th>lga_name19</th>\n      <th>cases</th>\n    </tr>\n  </thead>\n  <tbody>\n    <tr>\n      <th>0</th>\n      <td>2020-01-22</td>\n      <td>2134.0</td>\n      <td>X700</td>\n      <td>Sydney</td>\n      <td>11300.0</td>\n      <td>Burwood (A)</td>\n      <td>1</td>\n    </tr>\n    <tr>\n      <th>1</th>\n      <td>2020-01-24</td>\n      <td>2121.0</td>\n      <td>X760</td>\n      <td>Northern Sydney</td>\n      <td>16260.0</td>\n      <td>Parramatta (C)</td>\n      <td>1</td>\n    </tr>\n    <tr>\n      <th>2</th>\n      <td>2020-01-25</td>\n      <td>2071.0</td>\n      <td>X760</td>\n      <td>Northern Sydney</td>\n      <td>14500.0</td>\n      <td>Ku-ring-gai (A)</td>\n      <td>1</td>\n    </tr>\n    <tr>\n      <th>3</th>\n      <td>2020-01-25</td>\n      <td>2033.0</td>\n      <td>X720</td>\n      <td>South Eastern Sydney</td>\n      <td>16550.0</td>\n      <td>Randwick (C)</td>\n      <td>1</td>\n    </tr>\n    <tr>\n      <th>4</th>\n      <td>2020-01-30</td>\n      <td>2350.0</td>\n      <td>X800</td>\n      <td>Hunter New England</td>\n      <td>10130.0</td>\n      <td>Armidale Regional (A)</td>\n      <td>1</td>\n    </tr>\n  </tbody>\n</table>\n</div>"
     },
     "metadata": {}
    },
    {
     "output_type": "display_data",
     "data": {
      "text/plain": "(2926, 7)"
     },
     "metadata": {}
    }
   ],
   "source": [
    "df.notification_date = pd.to_datetime(df.notification_date)\n",
    "df.postcode.dropna(inplace=True)\n",
    "\n",
    "trunc = lambda x: math.trunc(1000 * x) / 1000;\n",
    "df.postcode = df.postcode.apply(trunc)\n",
    "df['cases'] = 1\n",
    "display(df.head(5))\n",
    "display(df.shape)"
   ]
  },
  {
   "cell_type": "code",
   "execution_count": 4,
   "metadata": {},
   "outputs": [
    {
     "output_type": "display_data",
     "data": {
      "text/plain": "     notification_date  postcode lhd_2010_code         lhd_2010_name  \\\n0           2020-01-22    2134.0          X700                Sydney   \n1           2020-01-24    2121.0          X760       Northern Sydney   \n2           2020-01-25    2071.0          X760       Northern Sydney   \n3           2020-01-25    2033.0          X720  South Eastern Sydney   \n4           2020-01-30    2350.0          X800    Hunter New England   \n...                ...       ...           ...                   ...   \n2921        2020-04-15    2088.0          X760       Northern Sydney   \n2922        2020-04-16    2430.0          X800    Hunter New England   \n2923        2020-04-16    2560.0          X710  South Western Sydney   \n2924        2020-04-16       NaN           NaN                   NaN   \n2925        2020-04-16    2138.0          X700                Sydney   \n\n      lga_code19              lga_name19  cases  cases_cumulative_postcode  \n0        11300.0             Burwood (A)      1                          1  \n1        16260.0          Parramatta (C)      1                          1  \n2        14500.0         Ku-ring-gai (A)      1                          1  \n3        16550.0            Randwick (C)      1                          1  \n4        10130.0   Armidale Regional (A)      1                          1  \n...          ...                     ...    ...                        ...  \n2921     15350.0              Mosman (A)      1                         42  \n2922     15240.0           Mid-Coast (A)      1                         16  \n2923     11500.0  Campbelltown (C) (NSW)      1                         17  \n2924         NaN                     NaN      1              2590396994717  \n2925     11520.0          Canada Bay (A)      1                          4  \n\n[2926 rows x 8 columns]",
      "text/html": "<div>\n<style scoped>\n    .dataframe tbody tr th:only-of-type {\n        vertical-align: middle;\n    }\n\n    .dataframe tbody tr th {\n        vertical-align: top;\n    }\n\n    .dataframe thead th {\n        text-align: right;\n    }\n</style>\n<table border=\"1\" class=\"dataframe\">\n  <thead>\n    <tr style=\"text-align: right;\">\n      <th></th>\n      <th>notification_date</th>\n      <th>postcode</th>\n      <th>lhd_2010_code</th>\n      <th>lhd_2010_name</th>\n      <th>lga_code19</th>\n      <th>lga_name19</th>\n      <th>cases</th>\n      <th>cases_cumulative_postcode</th>\n    </tr>\n  </thead>\n  <tbody>\n    <tr>\n      <th>0</th>\n      <td>2020-01-22</td>\n      <td>2134.0</td>\n      <td>X700</td>\n      <td>Sydney</td>\n      <td>11300.0</td>\n      <td>Burwood (A)</td>\n      <td>1</td>\n      <td>1</td>\n    </tr>\n    <tr>\n      <th>1</th>\n      <td>2020-01-24</td>\n      <td>2121.0</td>\n      <td>X760</td>\n      <td>Northern Sydney</td>\n      <td>16260.0</td>\n      <td>Parramatta (C)</td>\n      <td>1</td>\n      <td>1</td>\n    </tr>\n    <tr>\n      <th>2</th>\n      <td>2020-01-25</td>\n      <td>2071.0</td>\n      <td>X760</td>\n      <td>Northern Sydney</td>\n      <td>14500.0</td>\n      <td>Ku-ring-gai (A)</td>\n      <td>1</td>\n      <td>1</td>\n    </tr>\n    <tr>\n      <th>3</th>\n      <td>2020-01-25</td>\n      <td>2033.0</td>\n      <td>X720</td>\n      <td>South Eastern Sydney</td>\n      <td>16550.0</td>\n      <td>Randwick (C)</td>\n      <td>1</td>\n      <td>1</td>\n    </tr>\n    <tr>\n      <th>4</th>\n      <td>2020-01-30</td>\n      <td>2350.0</td>\n      <td>X800</td>\n      <td>Hunter New England</td>\n      <td>10130.0</td>\n      <td>Armidale Regional (A)</td>\n      <td>1</td>\n      <td>1</td>\n    </tr>\n    <tr>\n      <th>...</th>\n      <td>...</td>\n      <td>...</td>\n      <td>...</td>\n      <td>...</td>\n      <td>...</td>\n      <td>...</td>\n      <td>...</td>\n      <td>...</td>\n    </tr>\n    <tr>\n      <th>2921</th>\n      <td>2020-04-15</td>\n      <td>2088.0</td>\n      <td>X760</td>\n      <td>Northern Sydney</td>\n      <td>15350.0</td>\n      <td>Mosman (A)</td>\n      <td>1</td>\n      <td>42</td>\n    </tr>\n    <tr>\n      <th>2922</th>\n      <td>2020-04-16</td>\n      <td>2430.0</td>\n      <td>X800</td>\n      <td>Hunter New England</td>\n      <td>15240.0</td>\n      <td>Mid-Coast (A)</td>\n      <td>1</td>\n      <td>16</td>\n    </tr>\n    <tr>\n      <th>2923</th>\n      <td>2020-04-16</td>\n      <td>2560.0</td>\n      <td>X710</td>\n      <td>South Western Sydney</td>\n      <td>11500.0</td>\n      <td>Campbelltown (C) (NSW)</td>\n      <td>1</td>\n      <td>17</td>\n    </tr>\n    <tr>\n      <th>2924</th>\n      <td>2020-04-16</td>\n      <td>NaN</td>\n      <td>NaN</td>\n      <td>NaN</td>\n      <td>NaN</td>\n      <td>NaN</td>\n      <td>1</td>\n      <td>2590396994717</td>\n    </tr>\n    <tr>\n      <th>2925</th>\n      <td>2020-04-16</td>\n      <td>2138.0</td>\n      <td>X700</td>\n      <td>Sydney</td>\n      <td>11520.0</td>\n      <td>Canada Bay (A)</td>\n      <td>1</td>\n      <td>4</td>\n    </tr>\n  </tbody>\n</table>\n<p>2926 rows × 8 columns</p>\n</div>"
     },
     "metadata": {}
    }
   ],
   "source": [
    "# df.groupby(['postcode'])['cases'].sum()\n",
    "df['cases_cumulative_postcode'] = df.groupby(['postcode'])['cases'].cumsum()\n",
    "# df.index = df.notification_date\n",
    "display(df)"
   ]
  },
  {
   "cell_type": "code",
   "execution_count": 5,
   "metadata": {},
   "outputs": [],
   "source": [
    "# grouped_cumulative = df.groupby(['notification_date','postcode'])['notification_date'].count()\n",
    "# grouped_cumulative\n",
    "pivoted_df = pd.pivot_table(df,values='cases_cumulative_postcode',index=['notification_date','postcode']).unstack().fillna(0)"
   ]
  },
  {
   "cell_type": "code",
   "execution_count": 6,
   "metadata": {},
   "outputs": [
    {
     "output_type": "error",
     "ename": "RuntimeError",
     "evalue": "Requested MovieWriter (ffmpeg) not available",
     "traceback": [
      "\u001b[1;31m---------------------------------------------------------------------------\u001b[0m",
      "\u001b[1;31mRuntimeError\u001b[0m                              Traceback (most recent call last)",
      "\u001b[1;32m<ipython-input-6-765d9dca9261>\u001b[0m in \u001b[0;36m<module>\u001b[1;34m\u001b[0m\n\u001b[0;32m      1\u001b[0m \u001b[1;32mimport\u001b[0m \u001b[0mbar_chart_race\u001b[0m \u001b[1;32mas\u001b[0m \u001b[0mbcr\u001b[0m\u001b[1;33m\u001b[0m\u001b[1;33m\u001b[0m\u001b[0m\n\u001b[1;32m----> 2\u001b[1;33m bcr_html = bcr.bar_chart_race(\n\u001b[0m\u001b[0;32m      3\u001b[0m     \u001b[0mdf\u001b[0m\u001b[1;33m=\u001b[0m\u001b[0mpivoted_df\u001b[0m\u001b[1;33m,\u001b[0m\u001b[1;33m\u001b[0m\u001b[1;33m\u001b[0m\u001b[0m\n\u001b[0;32m      4\u001b[0m     \u001b[0mfilename\u001b[0m\u001b[1;33m=\u001b[0m\u001b[1;32mNone\u001b[0m\u001b[1;33m,\u001b[0m\u001b[1;33m\u001b[0m\u001b[1;33m\u001b[0m\u001b[0m\n\u001b[0;32m      5\u001b[0m     \u001b[0morientation\u001b[0m\u001b[1;33m=\u001b[0m\u001b[1;34m'h'\u001b[0m\u001b[1;33m,\u001b[0m\u001b[1;33m\u001b[0m\u001b[1;33m\u001b[0m\u001b[0m\n",
      "\u001b[1;32mc:\\Users\\jackm\\Documents\\GitHub\\jackmckew.dev\\drafts\\2020\\bar-chart-race\\.env\\lib\\site-packages\\bar_chart_race\\_make_chart.py\u001b[0m in \u001b[0;36mbar_chart_race\u001b[1;34m(df, filename, orientation, sort, n_bars, label_bars, use_index, steps_per_period, period_length, figsize, cmap, title, bar_label_size, tick_label_size, period_label_size, fig, **kwargs)\u001b[0m\n\u001b[0;32m    355\u001b[0m                         \u001b[0mperiod_length\u001b[0m\u001b[1;33m,\u001b[0m \u001b[0mfigsize\u001b[0m\u001b[1;33m,\u001b[0m \u001b[0mcmap\u001b[0m\u001b[1;33m,\u001b[0m \u001b[0mtitle\u001b[0m\u001b[1;33m,\u001b[0m \u001b[0mbar_label_size\u001b[0m\u001b[1;33m,\u001b[0m \u001b[0mtick_label_size\u001b[0m\u001b[1;33m,\u001b[0m\u001b[1;33m\u001b[0m\u001b[1;33m\u001b[0m\u001b[0m\n\u001b[0;32m    356\u001b[0m                         period_label_size, fig, kwargs)\n\u001b[1;32m--> 357\u001b[1;33m     \u001b[1;32mreturn\u001b[0m \u001b[0mbcr\u001b[0m\u001b[1;33m.\u001b[0m\u001b[0mmake_animation\u001b[0m\u001b[1;33m(\u001b[0m\u001b[1;33m)\u001b[0m\u001b[1;33m\u001b[0m\u001b[1;33m\u001b[0m\u001b[0m\n\u001b[0m\u001b[0;32m    358\u001b[0m \u001b[1;33m\u001b[0m\u001b[0m\n\u001b[0;32m    359\u001b[0m \u001b[1;32mdef\u001b[0m \u001b[0mload_dataset\u001b[0m\u001b[1;33m(\u001b[0m\u001b[0mname\u001b[0m\u001b[1;33m=\u001b[0m\u001b[1;34m'covid19'\u001b[0m\u001b[1;33m)\u001b[0m\u001b[1;33m:\u001b[0m\u001b[1;33m\u001b[0m\u001b[1;33m\u001b[0m\u001b[0m\n",
      "\u001b[1;32mc:\\Users\\jackm\\Documents\\GitHub\\jackmckew.dev\\drafts\\2020\\bar-chart-race\\.env\\lib\\site-packages\\bar_chart_race\\_make_chart.py\u001b[0m in \u001b[0;36mmake_animation\u001b[1;34m(self)\u001b[0m\n\u001b[0;32m    238\u001b[0m \u001b[1;33m\u001b[0m\u001b[0m\n\u001b[0;32m    239\u001b[0m         \u001b[1;32mif\u001b[0m \u001b[0mself\u001b[0m\u001b[1;33m.\u001b[0m\u001b[0mhtml\u001b[0m\u001b[1;33m:\u001b[0m\u001b[1;33m\u001b[0m\u001b[1;33m\u001b[0m\u001b[0m\n\u001b[1;32m--> 240\u001b[1;33m             \u001b[1;32mreturn\u001b[0m \u001b[0manim\u001b[0m\u001b[1;33m.\u001b[0m\u001b[0mto_html5_video\u001b[0m\u001b[1;33m(\u001b[0m\u001b[1;33m)\u001b[0m\u001b[1;33m\u001b[0m\u001b[1;33m\u001b[0m\u001b[0m\n\u001b[0m\u001b[0;32m    241\u001b[0m \u001b[1;33m\u001b[0m\u001b[0m\n\u001b[0;32m    242\u001b[0m         \u001b[0mextension\u001b[0m \u001b[1;33m=\u001b[0m \u001b[0mself\u001b[0m\u001b[1;33m.\u001b[0m\u001b[0mfilename\u001b[0m\u001b[1;33m.\u001b[0m\u001b[0msplit\u001b[0m\u001b[1;33m(\u001b[0m\u001b[1;34m'.'\u001b[0m\u001b[1;33m)\u001b[0m\u001b[1;33m[\u001b[0m\u001b[1;33m-\u001b[0m\u001b[1;36m1\u001b[0m\u001b[1;33m]\u001b[0m\u001b[1;33m\u001b[0m\u001b[1;33m\u001b[0m\u001b[0m\n",
      "\u001b[1;32mc:\\Users\\jackm\\Documents\\GitHub\\jackmckew.dev\\drafts\\2020\\bar-chart-race\\.env\\lib\\site-packages\\matplotlib\\animation.py\u001b[0m in \u001b[0;36mto_html5_video\u001b[1;34m(self, embed_limit)\u001b[0m\n\u001b[0;32m   1326\u001b[0m                 \u001b[1;31m# We create a writer manually so that we can get the\u001b[0m\u001b[1;33m\u001b[0m\u001b[1;33m\u001b[0m\u001b[1;33m\u001b[0m\u001b[0m\n\u001b[0;32m   1327\u001b[0m                 \u001b[1;31m# appropriate size for the tag\u001b[0m\u001b[1;33m\u001b[0m\u001b[1;33m\u001b[0m\u001b[1;33m\u001b[0m\u001b[0m\n\u001b[1;32m-> 1328\u001b[1;33m                 \u001b[0mWriter\u001b[0m \u001b[1;33m=\u001b[0m \u001b[0mwriters\u001b[0m\u001b[1;33m[\u001b[0m\u001b[0mrcParams\u001b[0m\u001b[1;33m[\u001b[0m\u001b[1;34m'animation.writer'\u001b[0m\u001b[1;33m]\u001b[0m\u001b[1;33m]\u001b[0m\u001b[1;33m\u001b[0m\u001b[1;33m\u001b[0m\u001b[0m\n\u001b[0m\u001b[0;32m   1329\u001b[0m                 writer = Writer(codec='h264',\n\u001b[0;32m   1330\u001b[0m                                 \u001b[0mbitrate\u001b[0m\u001b[1;33m=\u001b[0m\u001b[0mrcParams\u001b[0m\u001b[1;33m[\u001b[0m\u001b[1;34m'animation.bitrate'\u001b[0m\u001b[1;33m]\u001b[0m\u001b[1;33m,\u001b[0m\u001b[1;33m\u001b[0m\u001b[1;33m\u001b[0m\u001b[0m\n",
      "\u001b[1;32mc:\\Users\\jackm\\Documents\\GitHub\\jackmckew.dev\\drafts\\2020\\bar-chart-race\\.env\\lib\\site-packages\\matplotlib\\animation.py\u001b[0m in \u001b[0;36m__getitem__\u001b[1;34m(self, name)\u001b[0m\n\u001b[0;32m    162\u001b[0m         \u001b[1;32mif\u001b[0m \u001b[0mself\u001b[0m\u001b[1;33m.\u001b[0m\u001b[0mis_available\u001b[0m\u001b[1;33m(\u001b[0m\u001b[0mname\u001b[0m\u001b[1;33m)\u001b[0m\u001b[1;33m:\u001b[0m\u001b[1;33m\u001b[0m\u001b[1;33m\u001b[0m\u001b[0m\n\u001b[0;32m    163\u001b[0m             \u001b[1;32mreturn\u001b[0m \u001b[0mself\u001b[0m\u001b[1;33m.\u001b[0m\u001b[0m_registered\u001b[0m\u001b[1;33m[\u001b[0m\u001b[0mname\u001b[0m\u001b[1;33m]\u001b[0m\u001b[1;33m\u001b[0m\u001b[1;33m\u001b[0m\u001b[0m\n\u001b[1;32m--> 164\u001b[1;33m         \u001b[1;32mraise\u001b[0m \u001b[0mRuntimeError\u001b[0m\u001b[1;33m(\u001b[0m\u001b[1;34mf\"Requested MovieWriter ({name}) not available\"\u001b[0m\u001b[1;33m)\u001b[0m\u001b[1;33m\u001b[0m\u001b[1;33m\u001b[0m\u001b[0m\n\u001b[0m\u001b[0;32m    165\u001b[0m \u001b[1;33m\u001b[0m\u001b[0m\n\u001b[0;32m    166\u001b[0m \u001b[1;33m\u001b[0m\u001b[0m\n",
      "\u001b[1;31mRuntimeError\u001b[0m: Requested MovieWriter (ffmpeg) not available"
     ]
    }
   ],
   "source": [
    "import bar_chart_race as bcr\n",
    "bcr_html = bcr.bar_chart_race(\n",
    "    df=pivoted_df,\n",
    "    filename=None,\n",
    "    orientation='h',\n",
    "    sort='desc',\n",
    "    label_bars=True,\n",
    "    use_index=True,\n",
    "    steps_per_period=10,\n",
    "    period_length=500,\n",
    "    figsize=(6.5, 3.5),\n",
    "    cmap='dark24',\n",
    "    title='COVID-19 Cases by Postcode NSW',\n",
    "    bar_label_size=7,\n",
    "    tick_label_size=7,\n",
    "    period_label_size=16,\n",
    "    fig=None)\n",
    "\n",
    "from IPython.display import HTML\n",
    "HTML(bcr_html)"
   ]
  },
  {
   "cell_type": "code",
   "execution_count": 7,
   "metadata": {},
   "outputs": [],
   "source": [
    "# clean_week = df[df.notification_date>=(datetime.datetime.now()-datetime.timedelta(hours=150))].dropna(axis=1,how='all')\n",
    "# clean_week\n"
   ]
  },
  {
   "cell_type": "code",
   "execution_count": null,
   "metadata": {},
   "outputs": [],
   "source": []
  },
  {
   "cell_type": "code",
   "execution_count": 8,
   "metadata": {},
   "outputs": [],
   "source": [
    "# fig, ax = plt.subplots(figsize=(15, 8))\n",
    "# ax.barh(clean_week.index,clean_week.cases_cumulative_postcode)\n",
    "# ax.barh(clean_week.index, clean_week.)"
   ]
  },
  {
   "cell_type": "code",
   "execution_count": null,
   "metadata": {},
   "outputs": [],
   "source": []
  }
 ],
 "metadata": {
  "language_info": {
   "name": "python",
   "codemirror_mode": {
    "name": "ipython",
    "version": 3
   },
   "version": "3.8.1-final"
  },
  "orig_nbformat": 2,
  "file_extension": ".py",
  "mimetype": "text/x-python",
  "name": "python",
  "npconvert_exporter": "python",
  "pygments_lexer": "ipython3",
  "version": 3,
  "kernelspec": {
   "name": "python38164bitenvvenv2d87ab194fe747e18b312243fe7aeeae",
   "display_name": "Python 3.8.1 64-bit ('.env': venv)"
  }
 },
 "nbformat": 4,
 "nbformat_minor": 2
}