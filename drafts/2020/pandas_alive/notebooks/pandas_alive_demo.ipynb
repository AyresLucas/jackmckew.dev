{
 "cells": [
  {
   "cell_type": "markdown",
   "metadata": {},
   "source": [
    "## Generating Animated Plots with Pandas_Alive\n",
    "\n",
    "In this tutorial we'll learn how to create a series of animations using Pandas_Alive. This post is rendered in the style of a Jupyter Notebook. Find the source here: [INSERT BASE LINK]\n",
    "\n",
    "![SHOW FINAL ANIMATION]"
   ]
  },
  {
   "cell_type": "markdown",
   "metadata": {},
   "source": [
    "### pandas_alive python package\n",
    "\n",
    "[pandas_alive](https://github.com/JackMcKew/pandas_alive) is a python package that automates the process of making these animations. Head over to the [github repository](https://github.com/JackMcKew/pandas_alive) to see even more examples!\n",
    "\n",
    "#### Installation\n",
    "\n",
    "Install with `pip install pandas_alive`\n",
    "\n",
    "### Supported Chart Types\n",
    "\n",
    "See the README on GitHub for current chart types at <https://github.com/JackMcKew/pandas_alive#currently-supported-chart-types>\n",
    "\n",
    "At the time of writing the currently supported chart types are:\n",
    "\n",
    "- Horizontal Bar Chart Races\n",
    "- Vertical Bar Chart Races\n",
    "- Line Charts\n",
    "- Scatter Charts\n",
    "- Pie Charts\n",
    "\n",
    "### Requirements\n",
    "\n",
    "`pandas_alive` utilises the [matplotlib.animation function](https://matplotlib.org/3.2.1/api/animation_api.html), thus requiring a writer library.\n",
    "\n",
    "Ensure to have one of the supported tooling software installed prior to use!\n",
    "\n",
    "- [ffmpeg](https://ffmpeg.org/)\n",
    "- [ImageMagick](https://imagemagick.org/index.php)\n",
    "- [Pillow](https://pillow.readthedocs.io/en/stable/)\n",
    "- See more at <https://matplotlib.org/3.2.1/api/animation_api.html#writer-classes>\n"
   ]
  },
  {
   "cell_type": "markdown",
   "metadata": {},
   "source": [
    "## Bar Chart Race\n",
    "\n",
    "Firstly let's build a bar chart race of the population change by year in all the countries of the world.\n",
    "\n",
    "Once pandas_alive is installed with `pip install pandas_alive`, we import the package, along with `pandas`."
   ]
  },
  {
   "cell_type": "code",
   "execution_count": null,
   "metadata": {},
   "outputs": [],
   "source": [
    "import pandas_alive\n",
    "import pandas as pd"
   ]
  },
  {
   "cell_type": "markdown",
   "metadata": {},
   "source": [
    "Next we need to import the data!\n",
    "\n",
    "We do the following steps:\n",
    "\n",
    "1. Using `pandas`, we can read the data into a DataFrame using `pd.read_csv`, ensuring to use the keyword `parse_dates` on the Year column in our dataset.\n",
    "\n",
    "2. Next we rename the columns to make life easier.\n",
    "\n",
    "3. We're only interested in years 1800 onwards, so we can make a selection and drop the data that isn't on or after the year 1800.\n",
    "\n",
    "4. Finally we convert the 'Year' column into datetime format, read more about datetime format here: <https://docs.python.org/3/library/datetime.html>"
   ]
  },
  {
   "cell_type": "code",
   "execution_count": null,
   "metadata": {},
   "outputs": [],
   "source": [
    "# Data Source: https://ourworldindata.org/grapher/population-by-country\n",
    "df = pd.read_csv('population-by-country.csv',parse_dates=['Year'])\n",
    "\n",
    "# Rename columns\n",
    "column_names = ['Country','Country Code','Year','Population']\n",
    "df.columns = column_names\n",
    "\n",
    "# Only years from 1800 onwards\n",
    "df = df[df['Year'].astype(int) >= 1800]\n",
    "\n",
    "# Convert Year column to datetime\n",
    "df['Year'] = pd.to_datetime(df['Year'])\n",
    "\n",
    "display(df)"
   ]
  },
  {
   "cell_type": "markdown",
   "metadata": {},
   "source": [
    "As we can see, our data is currently in a 'long' format; where each row is one time point per subject. Meaning each row (country) will have data in multiple rows. \n",
    "\n",
    "`pandas_alive` requires the data to be in a 'wide' format, where:\n",
    "\n",
    "- Each row represents a single point/period in time\n",
    "- Each column holds the value for a particular category (country in this case)\n",
    "- The index contains the time component (optional, if not used ensure to use `interpolate_period=False`)\n",
    "\n",
    "To convert our data from 'long' to 'wide' format, we can use the `pandas` function `pivot` to achieve this!\n",
    "\n",
    "> For any missing data we fill this with 0 using `.fillna(0)`"
   ]
  },
  {
   "cell_type": "code",
   "execution_count": null,
   "metadata": {},
   "outputs": [],
   "source": [
    "# Pivot data to turn from `long` to `wide` format\n",
    "pivoted_df = df.pivot(index='Year',columns='Country',values='Population').fillna(0)\n",
    "\n",
    "display(pivoted_df.head(5))"
   ]
  },
  {
   "cell_type": "markdown",
   "metadata": {},
   "source": [
    "Now that our data is prepared in 'wide' format, we're ready to create the animation!\n",
    "\n",
    "Ensuring that `pandas_alive` has been imported, we can now call `.plot_animated()` on our DataFrame. If a `filename` is passed, along with an extension (eg, .mp4, .gif), `pandas_alive` will export the animation to a file. Otherwise, `pandas_alive` creates an instance of the animation for use in `pandas_alive.animate_multiple_plots()`.\n",
    "\n",
    "We can configure settings of `.plot_animated`, such as:\n",
    "- `n_visible` - Change the number of visible bars on the plot\n",
    "- `period_fmt` - Change the way the date is represented on the plot (eg, '%d/%m/%Y')\n",
    "- `title` - Set a title for the plot\n",
    "- `fixed_max` - Set the x-axis to be fixed from the lowest - biggest number\n",
    "- `perpendicular_bar_func` - Set the function to show a perpendicular bar (eg 'mean', 'min','max', custom function, etc)\n",
    "\n",
    "There are many more settings which you can read more over at the documentation:  <https://jackmckew.github.io/pandas_alive/generated/pandas_alive.plotting.plot.html#pandas_alive.plotting.plot>"
   ]
  },
  {
   "cell_type": "code",
   "execution_count": null,
   "metadata": {},
   "outputs": [],
   "source": [
    "# Generate bar chart race\n",
    "bar_chart_race = pivoted_df.plot_animated(filename='population-over-time-bar-chart-race.gif',n_visible=10,period_fmt=\"%Y\",title='Top 10 Populous Countries 1800-2000',fixed_max=True,perpendicular_bar_func='mean')"
   ]
  },
  {
   "cell_type": "markdown",
   "metadata": {},
   "source": [
    "![Population Bar Chart Race](population-over-time-bar-chart-race.gif)"
   ]
  },
  {
   "cell_type": "markdown",
   "metadata": {},
   "source": [
    "What if we wanted to show a custom function for each time period. This can be achieved with defining a function and returns a dictionary on where the label should be located. Let's show the total population for each time period in the bottom left."
   ]
  },
  {
   "cell_type": "code",
   "execution_count": null,
   "metadata": {},
   "outputs": [],
   "source": [
    "def current_total(values):\n",
    "    total = values.sum()\n",
    "    s = f'Total Population : {int(total):,}'\n",
    "    return {'x': .85, 'y': .2, 's': s, 'ha': 'right', 'size': 11}\n",
    "\n",
    "# Generate bar chart race\n",
    "bar_chart_race = pivoted_df.plot_animated(filename='population-over-time-bar-chart-race-with-total.gif',n_visible=10,period_fmt=\"%Y\",title='Top 10 Populous Countries 1800-2000',period_summary_func=current_total)"
   ]
  },
  {
   "cell_type": "markdown",
   "metadata": {},
   "source": [
    "![Population Bar Chart Race With Total](population-over-time-bar-chart-race-with-total.gif)"
   ]
  },
  {
   "cell_type": "markdown",
   "metadata": {},
   "source": [
    "## Line Charts\n",
    "\n",
    "Let's show the total population over time.\n",
    "\n",
    "Get the total population for each year by summing the entire row `.sum(axis=1)`"
   ]
  },
  {
   "cell_type": "code",
   "execution_count": null,
   "metadata": {},
   "outputs": [],
   "source": [
    "total_df = pivoted_df.sum(axis=1)\n",
    "\n",
    "display(total_df)"
   ]
  },
  {
   "cell_type": "markdown",
   "metadata": {},
   "source": [
    "Now let's create an animated line chart with this data using `pandas_alive`."
   ]
  },
  {
   "cell_type": "code",
   "execution_count": null,
   "metadata": {},
   "outputs": [],
   "source": [
    "animated_line_chart = total_df.plot_animated(kind='line',filename=\"total-population-over-time-line.gif\",period_fmt=\"%Y\",title=\"Total Population Over Time\")"
   ]
  },
  {
   "cell_type": "markdown",
   "metadata": {},
   "source": [
    "![Population Line Chart](total-population-over-time-line.gif)"
   ]
  },
  {
   "cell_type": "markdown",
   "metadata": {},
   "source": [
    "## Combining Both Charts\n",
    "\n",
    "Now that we've created a bar chart race & a line chart, let's combine the two charts into a single animation!\n",
    "\n",
    "Luckily, `pandas_alive` makes this simple, as we can pass a list of animations we'd like to combine into `pandas_alive.animate_multiple_plots`."
   ]
  },
  {
   "cell_type": "code",
   "execution_count": null,
   "metadata": {},
   "outputs": [],
   "source": [
    "pandas_alive.animate_multiple_plots('population-combined-charts.gif',[bar_chart_race,animated_line_chart])"
   ]
  },
  {
   "cell_type": "markdown",
   "metadata": {},
   "source": [
    "![Combined Charts](population-combined-charts.gif)"
   ]
  },
  {
   "cell_type": "code",
   "execution_count": null,
   "metadata": {},
   "outputs": [],
   "source": []
  }
 ],
 "metadata": {
  "language_info": {
   "codemirror_mode": {
    "name": "ipython",
    "version": 3
   },
   "file_extension": ".py",
   "mimetype": "text/x-python",
   "name": "python",
   "nbconvert_exporter": "python",
   "pygments_lexer": "ipython3",
   "version": "3.8.1-final"
  },
  "orig_nbformat": 2,
  "kernelspec": {
   "name": "python38164bitenvvenv13fc4f2a555e4dea8b160819f8429074",
   "display_name": "Python 3.8.1 64-bit ('.env': venv)"
  }
 },
 "nbformat": 4,
 "nbformat_minor": 2
}