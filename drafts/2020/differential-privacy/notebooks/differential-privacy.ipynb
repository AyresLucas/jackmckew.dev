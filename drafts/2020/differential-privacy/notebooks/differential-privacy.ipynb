{
 "metadata": {
  "language_info": {
   "codemirror_mode": {
    "name": "ipython",
    "version": 3
   },
   "file_extension": ".py",
   "mimetype": "text/x-python",
   "name": "python",
   "nbconvert_exporter": "python",
   "pygments_lexer": "ipython3",
   "version": "3.8.5-final"
  },
  "orig_nbformat": 2,
  "kernelspec": {
   "name": "python3",
   "display_name": "Python 3"
  }
 },
 "nbformat": 4,
 "nbformat_minor": 2,
 "cells": [
  {
   "cell_type": "code",
   "execution_count": 14,
   "metadata": {},
   "outputs": [],
   "source": [
    "from mimesis import Person\n",
    "from mimesis import Address\n",
    "from mimesis.enums import Gender\n",
    "from mimesis import Datetime\n",
    "person = Person('en')\n",
    "import pandas as pd\n",
    "import random\n",
    "person = Person()\n",
    "addess = Address()\n",
    "datetime = Datetime()\n",
    "def create_rows_mimesis(num=1):\n",
    "    output = [{\"name\":person.full_name(),\n",
    "                \"gender\": person.gender(),\n",
    "                \"age\": person.age(),\n",
    "                \"nationality\": person.nationality(),\n",
    "                   \"address\":addess.address(),\n",
    "                   \"email\":person.email(),\n",
    "                   \"city\":addess.city(),\n",
    "                   \"state\":addess.state(),\n",
    "                   \"date_time\":datetime.datetime(),\n",
    "                   \"randomdata\":random.randint(1000,2000)} for x in range(num)]\n",
    "    return output\n",
    "\n",
    "\n",
    "df_mimesis = pd.DataFrame(create_rows_mimesis(5000))"
   ]
  },
  {
   "cell_type": "code",
   "execution_count": 15,
   "metadata": {},
   "outputs": [
    {
     "output_type": "execute_result",
     "data": {
      "text/plain": [
       "                   name  gender  age  nationality                     address  \\\n",
       "0         Elisa Goodman   Other   40        Irish            1233 Pierce Hill   \n",
       "1     Douglass Richards  Female   42     Bolivian                474 Joy Spur   \n",
       "2     Margarett Bradley    Male   50  Costa Rican     206 Lathrop High Street   \n",
       "3          Billy Osborn    Male   45     Bolivian  1036 Lake Merced Hill Road   \n",
       "4           Lenny Baird  Female   20    Uruguayan          1353 Colby Highway   \n",
       "...                 ...     ...  ...          ...                         ...   \n",
       "4995      Brian Clayton   Other   42      British            143 Nevada Drung   \n",
       "4996           Jin Carr    Male   47        Greek         313 Santiago Parade   \n",
       "4997    Keira Mcpherson   Fluid   49      Italian     479 California Turnpike   \n",
       "4998        Sima Mccall    Male   61  Costa Rican         1326 Grijalva Place   \n",
       "4999      Venice Vaughn    Male   33        Greek           4 Idora Esplanade   \n",
       "\n",
       "                           email              city           state  \\\n",
       "0       macrophage1876@yahoo.com            Eureka  North Carolina   \n",
       "1             bilio1904@live.com       Orland Park       Wisconsin   \n",
       "2            oryx1842@yandex.com           Orlando        Virginia   \n",
       "3      interleaver1951@yahoo.com     Santa Barbara          Hawaii   \n",
       "4     dredges1981@protonmail.com         Patterson            Utah   \n",
       "...                          ...               ...             ...   \n",
       "4995    batis1813@protonmail.com  North Ridgeville        Michigan   \n",
       "4996        bowers1811@gmail.com              Nixa    North Dakota   \n",
       "4997      dustuck2057@yandex.com             Tyler        Nebraska   \n",
       "4998     dassent1998@outlook.com        Pascagoula      Washington   \n",
       "4999       huddock2004@gmail.com      College Park        Illinois   \n",
       "\n",
       "                      date_time  randomdata  \n",
       "0    2018-11-04 09:45:31.664579        1309  \n",
       "1    2007-10-23 06:07:11.087906        1442  \n",
       "2    2010-01-07 10:28:32.337701        1709  \n",
       "3    2020-12-13 20:44:02.785711        1540  \n",
       "4    2012-11-13 12:57:31.349382        1967  \n",
       "...                         ...         ...  \n",
       "4995 2010-10-18 16:22:21.933444        1362  \n",
       "4996 2000-08-22 13:33:56.833354        1760  \n",
       "4997 2003-05-24 21:44:42.864646        1395  \n",
       "4998 2005-11-12 06:25:49.646682        1231  \n",
       "4999 2006-09-10 10:43:07.309103        1840  \n",
       "\n",
       "[5000 rows x 10 columns]"
      ],
      "text/html": "<div>\n<style scoped>\n    .dataframe tbody tr th:only-of-type {\n        vertical-align: middle;\n    }\n\n    .dataframe tbody tr th {\n        vertical-align: top;\n    }\n\n    .dataframe thead th {\n        text-align: right;\n    }\n</style>\n<table border=\"1\" class=\"dataframe\">\n  <thead>\n    <tr style=\"text-align: right;\">\n      <th></th>\n      <th>name</th>\n      <th>gender</th>\n      <th>age</th>\n      <th>nationality</th>\n      <th>address</th>\n      <th>email</th>\n      <th>city</th>\n      <th>state</th>\n      <th>date_time</th>\n      <th>randomdata</th>\n    </tr>\n  </thead>\n  <tbody>\n    <tr>\n      <th>0</th>\n      <td>Elisa Goodman</td>\n      <td>Other</td>\n      <td>40</td>\n      <td>Irish</td>\n      <td>1233 Pierce Hill</td>\n      <td>macrophage1876@yahoo.com</td>\n      <td>Eureka</td>\n      <td>North Carolina</td>\n      <td>2018-11-04 09:45:31.664579</td>\n      <td>1309</td>\n    </tr>\n    <tr>\n      <th>1</th>\n      <td>Douglass Richards</td>\n      <td>Female</td>\n      <td>42</td>\n      <td>Bolivian</td>\n      <td>474 Joy Spur</td>\n      <td>bilio1904@live.com</td>\n      <td>Orland Park</td>\n      <td>Wisconsin</td>\n      <td>2007-10-23 06:07:11.087906</td>\n      <td>1442</td>\n    </tr>\n    <tr>\n      <th>2</th>\n      <td>Margarett Bradley</td>\n      <td>Male</td>\n      <td>50</td>\n      <td>Costa Rican</td>\n      <td>206 Lathrop High Street</td>\n      <td>oryx1842@yandex.com</td>\n      <td>Orlando</td>\n      <td>Virginia</td>\n      <td>2010-01-07 10:28:32.337701</td>\n      <td>1709</td>\n    </tr>\n    <tr>\n      <th>3</th>\n      <td>Billy Osborn</td>\n      <td>Male</td>\n      <td>45</td>\n      <td>Bolivian</td>\n      <td>1036 Lake Merced Hill Road</td>\n      <td>interleaver1951@yahoo.com</td>\n      <td>Santa Barbara</td>\n      <td>Hawaii</td>\n      <td>2020-12-13 20:44:02.785711</td>\n      <td>1540</td>\n    </tr>\n    <tr>\n      <th>4</th>\n      <td>Lenny Baird</td>\n      <td>Female</td>\n      <td>20</td>\n      <td>Uruguayan</td>\n      <td>1353 Colby Highway</td>\n      <td>dredges1981@protonmail.com</td>\n      <td>Patterson</td>\n      <td>Utah</td>\n      <td>2012-11-13 12:57:31.349382</td>\n      <td>1967</td>\n    </tr>\n    <tr>\n      <th>...</th>\n      <td>...</td>\n      <td>...</td>\n      <td>...</td>\n      <td>...</td>\n      <td>...</td>\n      <td>...</td>\n      <td>...</td>\n      <td>...</td>\n      <td>...</td>\n      <td>...</td>\n    </tr>\n    <tr>\n      <th>4995</th>\n      <td>Brian Clayton</td>\n      <td>Other</td>\n      <td>42</td>\n      <td>British</td>\n      <td>143 Nevada Drung</td>\n      <td>batis1813@protonmail.com</td>\n      <td>North Ridgeville</td>\n      <td>Michigan</td>\n      <td>2010-10-18 16:22:21.933444</td>\n      <td>1362</td>\n    </tr>\n    <tr>\n      <th>4996</th>\n      <td>Jin Carr</td>\n      <td>Male</td>\n      <td>47</td>\n      <td>Greek</td>\n      <td>313 Santiago Parade</td>\n      <td>bowers1811@gmail.com</td>\n      <td>Nixa</td>\n      <td>North Dakota</td>\n      <td>2000-08-22 13:33:56.833354</td>\n      <td>1760</td>\n    </tr>\n    <tr>\n      <th>4997</th>\n      <td>Keira Mcpherson</td>\n      <td>Fluid</td>\n      <td>49</td>\n      <td>Italian</td>\n      <td>479 California Turnpike</td>\n      <td>dustuck2057@yandex.com</td>\n      <td>Tyler</td>\n      <td>Nebraska</td>\n      <td>2003-05-24 21:44:42.864646</td>\n      <td>1395</td>\n    </tr>\n    <tr>\n      <th>4998</th>\n      <td>Sima Mccall</td>\n      <td>Male</td>\n      <td>61</td>\n      <td>Costa Rican</td>\n      <td>1326 Grijalva Place</td>\n      <td>dassent1998@outlook.com</td>\n      <td>Pascagoula</td>\n      <td>Washington</td>\n      <td>2005-11-12 06:25:49.646682</td>\n      <td>1231</td>\n    </tr>\n    <tr>\n      <th>4999</th>\n      <td>Venice Vaughn</td>\n      <td>Male</td>\n      <td>33</td>\n      <td>Greek</td>\n      <td>4 Idora Esplanade</td>\n      <td>huddock2004@gmail.com</td>\n      <td>College Park</td>\n      <td>Illinois</td>\n      <td>2006-09-10 10:43:07.309103</td>\n      <td>1840</td>\n    </tr>\n  </tbody>\n</table>\n<p>5000 rows × 10 columns</p>\n</div>"
     },
     "metadata": {},
     "execution_count": 15
    }
   ],
   "source": [
    "df_mimesis"
   ]
  },
  {
   "cell_type": "code",
   "execution_count": 16,
   "metadata": {},
   "outputs": [],
   "source": [
    "import pydp as dp\n",
    "from pydp.algorithms.laplacian import BoundedSum, BoundedMean, Count, Max"
   ]
  },
  {
   "cell_type": "code",
   "execution_count": 17,
   "metadata": {},
   "outputs": [
    {
     "output_type": "stream",
     "name": "stdout",
     "text": [
      "1.0.1\n"
     ]
    }
   ],
   "source": [
    "print(dp.__version__)"
   ]
  },
  {
   "cell_type": "code",
   "execution_count": 18,
   "metadata": {},
   "outputs": [
    {
     "output_type": "execute_result",
     "data": {
      "text/plain": [
       "40.5966"
      ]
     },
     "metadata": {},
     "execution_count": 18
    }
   ],
   "source": [
    "df_mimesis.age.mean()"
   ]
  },
  {
   "cell_type": "code",
   "execution_count": 20,
   "metadata": {},
   "outputs": [],
   "source": [
    "x = BoundedMean(0.8,df_mimesis.age.min(),df_mimesis.age.max())"
   ]
  },
  {
   "cell_type": "code",
   "execution_count": 25,
   "metadata": {},
   "outputs": [
    {
     "output_type": "execute_result",
     "data": {
      "text/plain": [
       "40.57867901495021"
      ]
     },
     "metadata": {},
     "execution_count": 25
    }
   ],
   "source": [
    "x.quick_result(list(df_mimesis.age))"
   ]
  },
  {
   "cell_type": "code",
   "execution_count": null,
   "metadata": {},
   "outputs": [],
   "source": []
  }
 ]
}