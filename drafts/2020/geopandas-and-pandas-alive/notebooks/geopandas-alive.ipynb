{
 "cells": [
  {
   "cell_type": "markdown",
   "metadata": {},
   "source": [
    "Geopandas and Pandas_Alive\n",
    "\n",
    "Following on from a previous post on [making animated charts with `pandas_alive`](https://jackmckew.dev/creating-animated-plots-with-pandas_alive.html), let's go into generating animated charts specifically for geospatial data with `geopandas`. Support for `geopandas` was introduced into `pandas_alive` in version 0.2.0, along with functionality to interface with `contextily` for enabling basemaps. The visualisation(s) we will make today, are initially was `pandas_alive` was created for!\n",
    "\n",
    "When setting up `geopandas` & `pandas_alive` on Windows, the recommended set up is using [Anaconda](https://www.anaconda.com/) as `geopandas` requires GDAL, which is not a trivial process to set up on Windows. Luckily Anaconda distributes GDAL along with geopandas so we don't have to worry about it. We also need to install `descartes` (support for plotting polygons) and `contextily` for basemap support. These can be installed with:\n",
    "\n",
    "- `descartes` : `conda install -c conda-forge descartes`\n",
    "- `contextily` : `conda install -c conda-forge contextily`\n",
    "\n",
    "`pandas_alive` also supports progress bars with `tqdm`, this can be installed via `conda install tqdm` and enabled using the enable_progress_bar=True keyword in `plot_animated()`\n",
    "\n",
    "Now let's get started, as always we begin by importing all the neccessary libraries."
   ]
  },
  {
   "cell_type": "code",
   "execution_count": 1,
   "metadata": {},
   "outputs": [],
   "source": [
    "import geopandas\n",
    "import pandas as pd\n",
    "import pandas_alive\n",
    "import contextily\n",
    "import matplotlib.pyplot as plt\n",
    "\n",
    "import urllib.request, json"
   ]
  },
  {
   "cell_type": "markdown",
   "metadata": {},
   "source": [
    "The data we wish to visualise is hosted through an API, so we will use `urllib` to load the json response and then find the dataset link (provided as a csv). Once we determine what the link is, we can use `pandas` to read the csv directly from the url. We also read in a dataset of matching geospatial co-ordinates to the postcodes."
   ]
  },
  {
   "cell_type": "code",
   "execution_count": 2,
   "metadata": {},
   "outputs": [
    {
     "output_type": "display_data",
     "data": {
      "text/plain": "  notification_date  postcode lhd_2010_code         lhd_2010_name  lga_code19  \\\n0        25/01/2020    2134.0          X700                Sydney     11300.0   \n1        25/01/2020    2121.0          X760       Northern Sydney     16260.0   \n2        25/01/2020    2071.0          X760       Northern Sydney     14500.0   \n3        27/01/2020    2033.0          X720  South Eastern Sydney     16550.0   \n4         1/03/2020    2077.0          X760       Northern Sydney     14000.0   \n\n        lga_name19  \n0      Burwood (A)  \n1   Parramatta (C)  \n2  Ku-ring-gai (A)  \n3     Randwick (C)  \n4      Hornsby (A)  ",
      "text/html": "<div>\n<style scoped>\n    .dataframe tbody tr th:only-of-type {\n        vertical-align: middle;\n    }\n\n    .dataframe tbody tr th {\n        vertical-align: top;\n    }\n\n    .dataframe thead th {\n        text-align: right;\n    }\n</style>\n<table border=\"1\" class=\"dataframe\">\n  <thead>\n    <tr style=\"text-align: right;\">\n      <th></th>\n      <th>notification_date</th>\n      <th>postcode</th>\n      <th>lhd_2010_code</th>\n      <th>lhd_2010_name</th>\n      <th>lga_code19</th>\n      <th>lga_name19</th>\n    </tr>\n  </thead>\n  <tbody>\n    <tr>\n      <th>0</th>\n      <td>25/01/2020</td>\n      <td>2134.0</td>\n      <td>X700</td>\n      <td>Sydney</td>\n      <td>11300.0</td>\n      <td>Burwood (A)</td>\n    </tr>\n    <tr>\n      <th>1</th>\n      <td>25/01/2020</td>\n      <td>2121.0</td>\n      <td>X760</td>\n      <td>Northern Sydney</td>\n      <td>16260.0</td>\n      <td>Parramatta (C)</td>\n    </tr>\n    <tr>\n      <th>2</th>\n      <td>25/01/2020</td>\n      <td>2071.0</td>\n      <td>X760</td>\n      <td>Northern Sydney</td>\n      <td>14500.0</td>\n      <td>Ku-ring-gai (A)</td>\n    </tr>\n    <tr>\n      <th>3</th>\n      <td>27/01/2020</td>\n      <td>2033.0</td>\n      <td>X720</td>\n      <td>South Eastern Sydney</td>\n      <td>16550.0</td>\n      <td>Randwick (C)</td>\n    </tr>\n    <tr>\n      <th>4</th>\n      <td>1/03/2020</td>\n      <td>2077.0</td>\n      <td>X760</td>\n      <td>Northern Sydney</td>\n      <td>14000.0</td>\n      <td>Hornsby (A)</td>\n    </tr>\n  </tbody>\n</table>\n</div>"
     },
     "metadata": {}
    },
    {
     "output_type": "display_data",
     "data": {
      "text/plain": "    ID  Postcode Locality State   Longitude   Latitude Category Type      SA3  \\\n0  458      1001   SYDNEY   NSW  151.268071 -33.794883      LVR  LVR  11703.0   \n1  459      1002   SYDNEY   NSW  151.268071 -33.794883      LVR  LVR  11703.0   \n2  460      1003   SYDNEY   NSW  151.268071 -33.794883      LVR  LVR  11703.0   \n3  461      1004   SYDNEY   NSW  151.268071 -33.794883      LVR  LVR  11703.0   \n4  462      1005   SYDNEY   NSW  151.268071 -33.794883      LVR  LVR  11703.0   \n\n            SA3 Name    SA4                       SA4 Name  \\\n0  Sydney Inner City  117.0  Sydney - City and Inner South   \n1  Sydney Inner City  117.0  Sydney - City and Inner South   \n2  Sydney Inner City  117.0  Sydney - City and Inner South   \n3  Sydney Inner City  117.0  Sydney - City and Inner South   \n4  Sydney Inner City  117.0  Sydney - City and Inner South   \n\n                    Status  \n0  Updated 25-Mar-2020 SA3  \n1  Updated 25-Mar-2020 SA3  \n2  Updated 25-Mar-2020 SA3  \n3  Updated 25-Mar-2020 SA3  \n4  Updated 25-Mar-2020 SA3  ",
      "text/html": "<div>\n<style scoped>\n    .dataframe tbody tr th:only-of-type {\n        vertical-align: middle;\n    }\n\n    .dataframe tbody tr th {\n        vertical-align: top;\n    }\n\n    .dataframe thead th {\n        text-align: right;\n    }\n</style>\n<table border=\"1\" class=\"dataframe\">\n  <thead>\n    <tr style=\"text-align: right;\">\n      <th></th>\n      <th>ID</th>\n      <th>Postcode</th>\n      <th>Locality</th>\n      <th>State</th>\n      <th>Longitude</th>\n      <th>Latitude</th>\n      <th>Category</th>\n      <th>Type</th>\n      <th>SA3</th>\n      <th>SA3 Name</th>\n      <th>SA4</th>\n      <th>SA4 Name</th>\n      <th>Status</th>\n    </tr>\n  </thead>\n  <tbody>\n    <tr>\n      <th>0</th>\n      <td>458</td>\n      <td>1001</td>\n      <td>SYDNEY</td>\n      <td>NSW</td>\n      <td>151.268071</td>\n      <td>-33.794883</td>\n      <td>LVR</td>\n      <td>LVR</td>\n      <td>11703.0</td>\n      <td>Sydney Inner City</td>\n      <td>117.0</td>\n      <td>Sydney - City and Inner South</td>\n      <td>Updated 25-Mar-2020 SA3</td>\n    </tr>\n    <tr>\n      <th>1</th>\n      <td>459</td>\n      <td>1002</td>\n      <td>SYDNEY</td>\n      <td>NSW</td>\n      <td>151.268071</td>\n      <td>-33.794883</td>\n      <td>LVR</td>\n      <td>LVR</td>\n      <td>11703.0</td>\n      <td>Sydney Inner City</td>\n      <td>117.0</td>\n      <td>Sydney - City and Inner South</td>\n      <td>Updated 25-Mar-2020 SA3</td>\n    </tr>\n    <tr>\n      <th>2</th>\n      <td>460</td>\n      <td>1003</td>\n      <td>SYDNEY</td>\n      <td>NSW</td>\n      <td>151.268071</td>\n      <td>-33.794883</td>\n      <td>LVR</td>\n      <td>LVR</td>\n      <td>11703.0</td>\n      <td>Sydney Inner City</td>\n      <td>117.0</td>\n      <td>Sydney - City and Inner South</td>\n      <td>Updated 25-Mar-2020 SA3</td>\n    </tr>\n    <tr>\n      <th>3</th>\n      <td>461</td>\n      <td>1004</td>\n      <td>SYDNEY</td>\n      <td>NSW</td>\n      <td>151.268071</td>\n      <td>-33.794883</td>\n      <td>LVR</td>\n      <td>LVR</td>\n      <td>11703.0</td>\n      <td>Sydney Inner City</td>\n      <td>117.0</td>\n      <td>Sydney - City and Inner South</td>\n      <td>Updated 25-Mar-2020 SA3</td>\n    </tr>\n    <tr>\n      <th>4</th>\n      <td>462</td>\n      <td>1005</td>\n      <td>SYDNEY</td>\n      <td>NSW</td>\n      <td>151.268071</td>\n      <td>-33.794883</td>\n      <td>LVR</td>\n      <td>LVR</td>\n      <td>11703.0</td>\n      <td>Sydney Inner City</td>\n      <td>117.0</td>\n      <td>Sydney - City and Inner South</td>\n      <td>Updated 25-Mar-2020 SA3</td>\n    </tr>\n  </tbody>\n</table>\n</div>"
     },
     "metadata": {}
    }
   ],
   "source": [
    "with urllib.request.urlopen(\n",
    "    \"https://data.nsw.gov.au/data/api/3/action/package_show?id=aefcde60-3b0c-4bc0-9af1-6fe652944ec2\"\n",
    ") as url:\n",
    "    data = json.loads(url.read().decode())\n",
    "\n",
    "# Extract url to csv component\n",
    "covid_nsw_data_url = data[\"result\"][\"resources\"][0][\"url\"]\n",
    "\n",
    "# Read csv from data API url\n",
    "nsw_covid = pd.read_csv(covid_nsw_data_url)\n",
    "\n",
    "# Source for postcode dataset https://www.matthewproctor.com/australian_postcodes\n",
    "postcode_dataset = pd.read_csv(\"data/postcode-data.csv\")\n",
    "\n",
    "display(nsw_covid.head())\n",
    "display(postcode_dataset.head())"
   ]
  },
  {
   "cell_type": "markdown",
   "metadata": {},
   "source": [
    "This data isn't in the format we need it to be, so let's do some preprocessing, in particular we:\n",
    "\n",
    "- Fill in any gaps (with error value 9999)\n",
    "- Convert the date string to a datetime object\n",
    "- Groupby to get number of cases by date & postcode\n",
    "- Unstack the multi-index that groupby returns\n",
    "- Drop the unused column level\n",
    "- Fill any missing values now with 0 cases (as these would be unprovided)"
   ]
  },
  {
   "cell_type": "code",
   "execution_count": 3,
   "metadata": {},
   "outputs": [],
   "source": [
    "# Prepare data from NSW health dataset\n",
    "nsw_covid = nsw_covid.fillna(9999)\n",
    "nsw_covid[\"postcode\"] = nsw_covid[\"postcode\"].astype(int)\n",
    "\n",
    "# Convert the date time string to a datetime object\n",
    "nsw_covid['notification_date'] = pd.to_datetime(nsw_covid['notification_date'],dayfirst=True)\n",
    "\n",
    "grouped_df = nsw_covid.groupby([\"notification_date\", \"postcode\"]).size()\n",
    "grouped_df = pd.DataFrame(grouped_df).unstack()\n",
    "grouped_df.columns = grouped_df.columns.droplevel().astype(str)\n",
    "\n",
    "grouped_df = grouped_df.fillna(0)\n",
    "grouped_df.index = pd.to_datetime(grouped_df.index)\n",
    "\n",
    "cases_df = grouped_df\n",
    "\n",
    "cases_df.to_csv('data/nsw-covid-cases-by-postcode.csv')"
   ]
  },
  {
   "cell_type": "markdown",
   "metadata": {},
   "source": [
    "Now we can start by creating an area chart, and labelling any events in particular with vertical bars."
   ]
  },
  {
   "cell_type": "code",
   "execution_count": 4,
   "metadata": {},
   "outputs": [
    {
     "output_type": "stream",
     "name": "stdout",
     "text": "Generating LineChart, plotting ['0']\n100%|██████████| 941/941 [17:54<00:00,  1.14s/it]\n"
    }
   ],
   "source": [
    "from datetime import datetime\n",
    "\n",
    "bar_chart = cases_df.sum(axis=1).plot_animated(\n",
    "    filename='area-chart.gif',\n",
    "    kind='line',\n",
    "    label_events={\n",
    "        'Ruby Princess Disembark':datetime.strptime(\"19/03/2020\", \"%d/%m/%Y\"),\n",
    "        'Lockdown':datetime.strptime(\"31/03/2020\", \"%d/%m/%Y\")\n",
    "    },\n",
    "    fill_under_line_color=\"blue\",\n",
    "    enable_progress_bar=True\n",
    ")"
   ]
  },
  {
   "cell_type": "markdown",
   "metadata": {},
   "source": [
    "![Area Chart](area-chart.gif)"
   ]
  },
  {
   "cell_type": "markdown",
   "metadata": {},
   "source": [
    "Now it's time to prepare the dataset for our geospatial visualisations with `geopandas`. In particular:\n",
    "\n",
    "- Drop any invalid longitudes / latitudes from our postcode dataset\n",
    "- Drop any longitudes / latitudes that are 0\n",
    "- Match the postcodes in each dataset to retrieve the equivalent longitude / latitude\n",
    "- Remove the redundant/duplicated columns\n",
    "- Package into a geopackage (ensure to keep the index column separate)"
   ]
  },
  {
   "cell_type": "code",
   "execution_count": 5,
   "metadata": {},
   "outputs": [],
   "source": [
    "# Clean data in postcode dataset prior to matching\n",
    "\n",
    "grouped_df = grouped_df.T\n",
    "postcode_dataset = postcode_dataset[postcode_dataset['Longitude'].notna()]\n",
    "postcode_dataset = postcode_dataset[postcode_dataset['Longitude'] != 0]\n",
    "postcode_dataset = postcode_dataset[postcode_dataset['Latitude'].notna()]\n",
    "postcode_dataset = postcode_dataset[postcode_dataset['Latitude'] != 0]\n",
    "postcode_dataset['Postcode'] = postcode_dataset['Postcode'].astype(str)\n",
    "\n",
    "# Build GeoDataFrame from Lat Long dataset and make map chart\n",
    "grouped_df['Longitude'] = grouped_df.index.map(postcode_dataset.set_index('Postcode')['Longitude'].to_dict())\n",
    "grouped_df['Latitude'] = grouped_df.index.map(postcode_dataset.set_index('Postcode')['Latitude'].to_dict())\n",
    "gdf = geopandas.GeoDataFrame(\n",
    "    grouped_df, geometry=geopandas.points_from_xy(grouped_df.Longitude, grouped_df.Latitude),crs=\"EPSG:4326\")\n",
    "gdf = gdf.dropna()\n",
    "\n",
    "# Prepare GeoDataFrame for writing to geopackage\n",
    "gdf = gdf.drop(['Longitude','Latitude'],axis=1)\n",
    "gdf.columns = gdf.columns.astype(str)\n",
    "gdf['postcode'] = gdf.index\n",
    "gdf.to_file(\"data/nsw-covid19-cases-by-postcode.gpkg\", layer='nsw-postcode-covid', driver=\"GPKG\")"
   ]
  },
  {
   "cell_type": "markdown",
   "metadata": {},
   "source": [
    "Before we merge together all the charts, let's plot the prepared geospatial data on it's own."
   ]
  },
  {
   "cell_type": "code",
   "execution_count": 6,
   "metadata": {},
   "outputs": [],
   "source": [
    "# Prepare GeoDataFrame for plotting\n",
    "gdf.index = gdf.postcode\n",
    "gdf = gdf.drop('postcode',axis=1)\n",
    "gdf = gdf.to_crs(\"EPSG:3857\") #Web Mercator\n",
    "\n",
    "map_chart = gdf.plot_animated(filename='map-chart.gif',title=\"Cases by Location\",basemap_format={'source':contextily.providers.Stamen.Terrain},cmap='cool')"
   ]
  },
  {
   "cell_type": "markdown",
   "metadata": {},
   "source": [
    "![Map Chart](map-chart.gif)"
   ]
  },
  {
   "cell_type": "markdown",
   "metadata": {},
   "source": [
    "Finally let's merge all these charts together into a single chart!"
   ]
  },
  {
   "cell_type": "code",
   "execution_count": 7,
   "metadata": {},
   "outputs": [
    {
     "output_type": "stream",
     "name": "stdout",
     "text": "Generating LineChart, plotting ['0']\nGenerating BarChartRace, plotting ['1871', '2000', '2007', '2008', '2009', '2010', '2011', '2015', '2016', '2017', '2018', '2019', '2020', '2021', '2022', '2023', '2024', '2025', '2026', '2027', '2028', '2029', '2030', '2031', '2032', '2033', '2034', '2035', '2036', '2037', '2038', '2039', '2040', '2041', '2042', '2043', '2044', '2045', '2046', '2047', '2048', '2049', '2050', '2060', '2061', '2062', '2063', '2064', '2065', '2066', '2067', '2068', '2069', '2070', '2071', '2072', '2073', '2074', '2075', '2076', '2077', '2079', '2080', '2081', '2084', '2085', '2086', '2087', '2088', '2089', '2090', '2091', '2092', '2093', '2094', '2095', '2096', '2097', '2099', '2100', '2101', '2102', '2103', '2104', '2106', '2107', '2108', '2110', '2111', '2112', '2113', '2114', '2115', '2116', '2117', '2118', '2119', '2120', '2121', '2122', '2125', '2126', '2127', '2128', '2130', '2131', '2132', '2134', '2135', '2137', '2138', '2140', '2141', '2142', '2144', '2145', '2147', '2148', '2150', '2151', '2152', '2153', '2154', '2155', '2156', '2158', '2159', '2160', '2161', '2162', '2163', '2164', '2165', '2166', '2168', '2170', '2171', '2172', '2173', '2176', '2177', '2178', '2179', '2190', '2191', '2192', '2193', '2194', '2195', '2196', '2197', '2198', '2199', '2200', '2203', '2204', '2205', '2206', '2207', '2208', '2209', '2210', '2211', '2212', '2213', '2216', '2217', '2218', '2219', '2220', '2221', '2223', '2224', '2225', '2226', '2227', '2228', '2229', '2230', '2231', '2232', '2233', '2234', '2250', '2251', '2256', '2257', '2258', '2259', '2260', '2261', '2262', '2263', '2264', '2265', '2278', '2280', '2281', '2282', '2283', '2284', '2285', '2286', '2287', '2289', '2290', '2291', '2292', '2297', '2298', '2299', '2300', '2303', '2304', '2305', '2306', '2315', '2316', '2317', '2318', '2319', '2320', '2321', '2322', '2323', '2324', '2325', '2327', '2330', '2333', '2334', '2335', '2337', '2340', '2343', '2345', '2350', '2357', '2358', '2360', '2371', '2372', '2380', '2400', '2420', '2421', '2422', '2423', '2425', '2427', '2428', '2430', '2431', '2439', '2440', '2443', '2444', '2445', '2446', '2447', '2448', '2450', '2452', '2454', '2456', '2460', '2463', '2464', '2465', '2470', '2476', '2477', '2478', '2479', '2480', '2481', '2482', '2483', '2484', '2485', '2486', '2487', '2490', '2500', '2505', '2506', '2508', '2515', '2516', '2517', '2518', '2519', '2525', '2526', '2527', '2528', '2529', '2530', '2533', '2535', '2536', '2537', '2539', '2540', '2541', '2546', '2548', '2550', '2557', '2558', '2560', '2564', '2565', '2566', '2567', '2568', '2569', '2570', '2571', '2575', '2576', '2577', '2578', '2580', '2581', '2582', '2583', '2586', '2590', '2619', '2620', '2621', '2627', '2628', '2630', '2631', '2640', '2641', '2642', '2643', '2644', '2646', '2647', '2650', '2660', '2680', '2700', '2711', '2713', '2714', '2716', '2722', '2745', '2747', '2748', '2749', '2750', '2752', '2753', '2754', '2756', '2757', '2758', '2759', '2760', '2761', '2763', '2765', '2766', '2767', '2768', '2769', '2770', '2773', '2774', '2777', '2779', '2780', '2782', '2783', '2785', '2786', '2790', '2795', '2799', '2800', '2810', '2820', '2821', '2824', '2830', '2843', '2849', '2850', '2865', '2866', '2870', '2880', '9999']\n"
    }
   ],
   "source": [
    "grouped_df = pd.read_csv('data/nsw-covid-cases-by-postcode.csv', index_col=0, parse_dates=[0])\n",
    "\n",
    "line_chart = (\n",
    "    grouped_df.sum(axis=1)\n",
    "    .cumsum()\n",
    "    .fillna(0)\n",
    "    .plot_animated(kind=\"line\", period_label=False, title=\"Cumulative Total Cases\")\n",
    ")\n",
    "\n",
    "\n",
    "def current_total(values):\n",
    "    total = values.sum()\n",
    "    s = f'Total : {int(total)}'\n",
    "    return {'x': .85, 'y': .2, 's': s, 'ha': 'right', 'size': 11}\n",
    "\n",
    "race_chart = grouped_df.cumsum().plot_animated(\n",
    "    n_visible=5, title=\"Cases by Postcode\", period_label=False,period_summary_func=current_total\n",
    ")\n",
    "\n",
    "import time\n",
    "\n",
    "timestr = time.strftime(\"%d/%m/%Y\")\n",
    "\n",
    "plots = [bar_chart, line_chart, map_chart, race_chart]\n",
    "\n",
    "from matplotlib import rcParams\n",
    "\n",
    "rcParams.update({\"figure.autolayout\": False})\n",
    "\n",
    "figs = plt.figure()\n",
    "gs = figs.add_gridspec(2, 3, hspace=0.5)\n",
    "f3_ax1 = figs.add_subplot(gs[0, :])\n",
    "f3_ax1.set_title(bar_chart.title)\n",
    "bar_chart.ax = f3_ax1\n",
    "\n",
    "f3_ax2 = figs.add_subplot(gs[1, 0])\n",
    "f3_ax2.set_title(line_chart.title)\n",
    "line_chart.ax = f3_ax2\n",
    "\n",
    "f3_ax3 = figs.add_subplot(gs[1, 1])\n",
    "f3_ax3.set_title(map_chart.title)\n",
    "map_chart.ax = f3_ax3\n",
    "\n",
    "f3_ax4 = figs.add_subplot(gs[1, 2])\n",
    "f3_ax4.set_title(race_chart.title)\n",
    "race_chart.ax = f3_ax4\n",
    "\n",
    "timestr = cases_df.index.max().strftime(\"%d/%m/%Y\")\n",
    "figs.suptitle(f\"NSW COVID-19 Confirmed Cases up to {timestr}\")\n",
    "\n",
    "pandas_alive.animate_multiple_plots(\n",
    "    'nsw-covid.gif',\n",
    "    plots,\n",
    "    figs\n",
    ")"
   ]
  },
  {
   "cell_type": "markdown",
   "metadata": {},
   "source": [
    "![NSW COVID Chart](nsw-covid.gif)"
   ]
  },
  {
   "cell_type": "code",
   "execution_count": null,
   "metadata": {},
   "outputs": [],
   "source": []
  }
 ],
 "metadata": {
  "language_info": {
   "codemirror_mode": {
    "name": "ipython",
    "version": 3
   },
   "file_extension": ".py",
   "mimetype": "text/x-python",
   "name": "python",
   "nbconvert_exporter": "python",
   "pygments_lexer": "ipython3",
   "version": "3.8.3-final"
  },
  "orig_nbformat": 2,
  "kernelspec": {
   "name": "python38364bitgeopandasalivecondaf3e8ba5bf7cb4f5380e5054548cb8b2d",
   "display_name": "Python 3.8.3 64-bit ('geopandas-alive': conda)"
  }
 },
 "nbformat": 4,
 "nbformat_minor": 2
}