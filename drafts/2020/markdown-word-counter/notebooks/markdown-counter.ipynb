{
 "nbformat": 4,
 "nbformat_minor": 2,
 "metadata": {
  "language_info": {
   "name": "python",
   "codemirror_mode": {
    "name": "ipython",
    "version": 3
   },
   "version": "3.8.1-final"
  },
  "orig_nbformat": 2,
  "file_extension": ".py",
  "mimetype": "text/x-python",
  "name": "python",
  "npconvert_exporter": "python",
  "pygments_lexer": "ipython3",
  "version": 3,
  "kernelspec": {
   "name": "python38164bitenvvenvc88c5065032e4c948a082de32d853c9d",
   "display_name": "Python 3.8.1 64-bit ('.env': venv)"
  }
 },
 "cells": [
  {
   "cell_type": "markdown",
   "metadata": {},
   "source": [
    "**Recursively counting words in markdown within a folder**\n",
    "\n",
    "A question had popped into my mind this week, \"How many words have I written in this blog?\". As per normal, we'll go into how to use Python to solve this problem. This is an opportunity to get more familiar with `pathlib`, a renowned, enjoyable way to handle pathing within Python programs."
   ]
  },
  {
   "cell_type": "code",
   "execution_count": 1,
   "metadata": {},
   "outputs": [],
   "source": [
    "import os\n",
    "import re\n",
    "import pathlib\n",
    "import io\n",
    "from typing import List\n",
    "from nbformat import current"
   ]
  },
  {
   "cell_type": "markdown",
   "metadata": {},
   "source": [
    "A great way to start projects, is to see if it's already been done before. [@gandreadis](https://github.com/gandreadis) over at GitHub had already tackled this problem on the single file basis: [https://github.com/gandreadis/markdown-word-count](https://github.com/gandreadis/markdown-word-count).\n",
    "\n",
    "This means all we need to do is:\n",
    "- Recursively loop through a folder and find all the markdown files\n",
    "- Call [@gandreadis](https://github.com/gandreadis) function to get the count of words for each file\n",
    "- Sum total words\n",
    "\n",
    "First of let's bring [@gandreadis](https://github.com/gandreadis) function into our program. It's been modified slightly to take in a file path, read the file contents in a variable, clean up contents and return the length of an array split by spaces.\n",
    "\n",
    "For example if the sentence (string) is 'How many words have I written in this blog?', when .split is called this returns an array of each word split by a space. Allowing us to calculate how many words, by counting the number of elements in the array."
   ]
  },
  {
   "cell_type": "code",
   "execution_count": 6,
   "metadata": {},
   "outputs": [
    {
     "name": "stdout",
     "output_type": "stream",
     "text": "['How', 'many', 'words', 'have', 'I', 'written', 'in', 'this', 'blog?']\n"
    }
   ],
   "source": [
    "testSentence = 'How many words have I written in this blog?'\n",
    "print(testSentence.split())"
   ]
  },
  {
   "cell_type": "code",
   "execution_count": 5,
   "metadata": {},
   "outputs": [],
   "source": [
    "# Source: https://github.com/gandreadis/markdown-word-count\n",
    "def count_words_in_markdown(filePath: str):\n",
    "    with open(filePath, 'r', encoding='utf8') as f:\n",
    "        text = f.read()\n",
    "\n",
    "    # Comments\n",
    "    text = re.sub(r'<!--(.*?)-->', '', text, flags=re.MULTILINE)\n",
    "    # Tabs to spaces\n",
    "    text = text.replace('\\t', '    ')\n",
    "    # More than 1 space to 4 spaces\n",
    "    text = re.sub(r'[ ]{2,}', '    ', text)\n",
    "    # Footnotes\n",
    "    text = re.sub(r'^\\[[^]]*\\][^(].*', '', text, flags=re.MULTILINE)\n",
    "    # Indented blocks of code\n",
    "    text = re.sub(r'^( {4,}[^-*]).*', '', text, flags=re.MULTILINE)\n",
    "    # Replace newlines with spaces for uniform handling\n",
    "    text = text.replace('\\n', ' ')\n",
    "    # Custom header IDs\n",
    "    text = re.sub(r'{#.*}', '', text)\n",
    "    # Remove images\n",
    "    text = re.sub(r'!\\[[^\\]]*\\]\\([^)]*\\)', '', text)\n",
    "    # Remove HTML tags\n",
    "    text = re.sub(r'</?[^>]*>', '', text)\n",
    "    # Remove special characters\n",
    "    text = re.sub(r'[#*`~\\-–^=<>+|/:]', '', text)\n",
    "    # Remove footnote references\n",
    "    text = re.sub(r'\\[[0-9]*\\]', '', text)\n",
    "    # Remove enumerations\n",
    "    text = re.sub(r'[0-9#]*\\.', '', text)\n",
    "\n",
    "    return len(text.split())"
   ]
  },
  {
   "cell_type": "markdown",
   "metadata": {},
   "source": [
    "We start by defining the 'top' directory to search within. We call this the 'top' folder as we go 'down' inside more folders inside the 'top' folder. Within pathlib, we can access elements within using `glob`. A great resource for testing glob patterns, as they are not very intuitive for me personally is [https://globster.xyz/](https://globster.xyz/). \n",
    "\n",
    "The glob pattern elements we will use are:\n",
    "- `**` - Feature known as globstar. Matches all files and zero or more directories and subdirectories. \n",
    "- `*` - Matches any string.\n",
    "- `?` - Matches single character.\n",
    "- `.md` - Matches files with a `.md` suffix.\n",
    "\n",
    "For this particular application, the posts are structured within folders which represent the year they are written so we use the `20??/` glob pattern as to exclude other folders."
   ]
  },
  {
   "cell_type": "code",
   "execution_count": 30,
   "metadata": {},
   "outputs": [
    {
     "name": "stdout",
     "output_type": "stream",
     "text": "55\n"
    }
   ],
   "source": [
    "# Top directory to search through\n",
    "topFolder: pathlib.Path = pathlib.Path('C:/Users/jackm/Documents/GitHub/jackmckew.dev/content')\n",
    "\n",
    "allMarkdown: List  = []\n",
    "\n",
    "# Iterate through all files using pathlib\n",
    "for singleFile in topFolder.glob('**/20??/**/*.md'):\n",
    "    allMarkdown.append(singleFile)\n",
    "\n",
    "# If you don't want to use glob patterns, can easily use the 'suffix' within the path variable.\n",
    "# for singleFile in topFolder.glob('**/*'):\n",
    "#     if singleFile.suffix == '.md':\n",
    "#         allMarkdown.append(singleFile)\n",
    "\n",
    "print(len(allMarkdown))"
   ]
  },
  {
   "cell_type": "markdown",
   "metadata": {},
   "source": [
    "We can see that there is 55 markdown files within the folder and all the paths are stored within the list.\n",
    "\n",
    "All we need to do now is loop over all of them, passing the path into a function defined previously to get the total word count."
   ]
  },
  {
   "cell_type": "code",
   "execution_count": 31,
   "metadata": {},
   "outputs": [
    {
     "name": "stdout",
     "output_type": "stream",
     "text": "31380\n"
    }
   ],
   "source": [
    "totalWordCount: int = 0\n",
    "for singleFile in allMarkdown:\n",
    "    totalWordCount += count_words_in_markdown(singleFile)\n",
    "\n",
    "print(totalWordCount)"
   ]
  },
  {
   "cell_type": "markdown",
   "metadata": {},
   "source": [
    "There you have it! 31380 words across all the markdown files. In comparison, my engineering thesis for graduating university was 9916 words across 69 pages.\n",
    "\n",
    "> This currently doesn't include posts that are written within jupyter notebooks, like this one. Later on, we'll go through how to count all the words within markdown cells within jupyter notebooks."
   ]
  },
  {
   "cell_type": "code",
   "execution_count": null,
   "metadata": {},
   "outputs": [],
   "source": []
  }
 ]
}