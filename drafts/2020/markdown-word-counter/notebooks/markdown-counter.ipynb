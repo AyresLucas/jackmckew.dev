{
 "nbformat": 4,
 "nbformat_minor": 2,
 "metadata": {
  "language_info": {
   "name": "python",
   "codemirror_mode": {
    "name": "ipython",
    "version": 3
   },
   "version": "3.8.1-final"
  },
  "orig_nbformat": 2,
  "file_extension": ".py",
  "mimetype": "text/x-python",
  "name": "python",
  "npconvert_exporter": "python",
  "pygments_lexer": "ipython3",
  "version": 3,
  "kernelspec": {
   "name": "python38164bitenvvenvc88c5065032e4c948a082de32d853c9d",
   "display_name": "Python 3.8.1 64-bit ('.env': venv)"
  }
 },
 "cells": [
  {
   "cell_type": "markdown",
   "metadata": {},
   "source": [
    "**Recursively counting words in markdown within a folder**"
   ]
  },
  {
   "cell_type": "code",
   "execution_count": 1,
   "metadata": {},
   "outputs": [],
   "source": [
    "import os\n",
    "import re\n",
    "import pathlib\n",
    "from typing import List\n",
    "import nbformat\n",
    "import io\n",
    "from nbformat import current"
   ]
  },
  {
   "cell_type": "code",
   "execution_count": 2,
   "metadata": {},
   "outputs": [],
   "source": [
    "# Source: https://github.com/gandreadis/markdown-word-count\n",
    "def count_words_in_markdown(filePath: str):\n",
    "    with open(filePath, 'r', encoding='utf8') as f:\n",
    "        text = f.read()\n",
    "\n",
    "    # Comments\n",
    "    text = re.sub(r'<!--(.*?)-->', '', text, flags=re.MULTILINE)\n",
    "    # Tabs to spaces\n",
    "    text = text.replace('\\t', '    ')\n",
    "    # More than 1 space to 4 spaces\n",
    "    text = re.sub(r'[ ]{2,}', '    ', text)\n",
    "    # Footnotes\n",
    "    text = re.sub(r'^\\[[^]]*\\][^(].*', '', text, flags=re.MULTILINE)\n",
    "    # Indented blocks of code\n",
    "    text = re.sub(r'^( {4,}[^-*]).*', '', text, flags=re.MULTILINE)\n",
    "    # Replace newlines with spaces for uniform handling\n",
    "    text = text.replace('\\n', ' ')\n",
    "    # Custom header IDs\n",
    "    text = re.sub(r'{#.*}', '', text)\n",
    "    # Remove images\n",
    "    text = re.sub(r'!\\[[^\\]]*\\]\\([^)]*\\)', '', text)\n",
    "    # Remove HTML tags\n",
    "    text = re.sub(r'</?[^>]*>', '', text)\n",
    "    # Remove special characters\n",
    "    text = re.sub(r'[#*`~\\-–^=<>+|/:]', '', text)\n",
    "    # Remove footnote references\n",
    "    text = re.sub(r'\\[[0-9]*\\]', '', text)\n",
    "    # Remove enumerations\n",
    "    text = re.sub(r'[0-9#]*\\.', '', text)\n",
    "\n",
    "    return len(text.split())"
   ]
  },
  {
   "cell_type": "code",
   "execution_count": 3,
   "metadata": {},
   "outputs": [
    {
     "name": "stdout",
     "output_type": "stream",
     "text": "57\n"
    }
   ],
   "source": [
    "# Top directory to search through\n",
    "topFolder: pathlib.Path = pathlib.Path().cwd().parent.parent.parent.parent.joinpath('content')\n",
    "\n",
    "allMarkdown: List  = []\n",
    "\n",
    "# Iterate through all files using pathlib\n",
    "for singleFile in topFolder.glob('**/*'):\n",
    "    if singleFile.suffix == '.md':\n",
    "        allMarkdown.append(singleFile)\n",
    "\n",
    "print(len(allMarkdown))"
   ]
  },
  {
   "cell_type": "code",
   "execution_count": 4,
   "metadata": {},
   "outputs": [
    {
     "name": "stdout",
     "output_type": "stream",
     "text": "31623\n"
    }
   ],
   "source": [
    "totalWordCount: int = 0\n",
    "for singleFile in allMarkdown:\n",
    "    totalWordCount += count_words_in_markdown(singleFile)\n",
    "\n",
    "print(totalWordCount)"
   ]
  },
  {
   "cell_type": "code",
   "execution_count": null,
   "metadata": {},
   "outputs": [],
   "source": []
  }
 ]
}