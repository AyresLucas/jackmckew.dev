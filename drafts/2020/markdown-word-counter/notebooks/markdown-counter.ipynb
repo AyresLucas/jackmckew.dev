{
 "nbformat": 4,
 "nbformat_minor": 2,
 "metadata": {
  "language_info": {
   "name": "python",
   "codemirror_mode": {
    "name": "ipython",
    "version": 3
   },
   "version": "3.8.1-final"
  },
  "orig_nbformat": 2,
  "file_extension": ".py",
  "mimetype": "text/x-python",
  "name": "python",
  "npconvert_exporter": "python",
  "pygments_lexer": "ipython3",
  "version": 3,
  "kernelspec": {
   "name": "python38164bitenvvenvc88c5065032e4c948a082de32d853c9d",
   "display_name": "Python 3.8.1 64-bit ('.env': venv)"
  }
 },
 "cells": [
  {
   "cell_type": "markdown",
   "metadata": {},
   "source": [
    "**Recursively counting words in markdown within a folder**\n",
    "\n",
    "A question had popped into my mind this week, \"How many words have I written in this blog?\". As per normal, we'll go into how to use Python to solve this problem. This is an opportunity to get more familiar with `pathlib`, a renowned, enjoyable way to handle pathing within Python programs."
   ]
  },
  {
   "cell_type": "code",
   "execution_count": 1,
   "metadata": {},
   "outputs": [],
   "source": [
    "import os\n",
    "import re\n",
    "import pathlib\n",
    "import io\n",
    "from typing import List\n",
    "from nbformat import current"
   ]
  },
  {
   "cell_type": "markdown",
   "metadata": {},
   "source": [
    "A great way to start projects, is to see if it's already been done before. [@gandreadis](https://github.com/gandreadis) over at GitHub had already tackled this problem on the single file basis: [https://github.com/gandreadis/markdown-word-count](https://github.com/gandreadis/markdown-word-count).\n",
    "\n",
    "This means all we need to do is:\n",
    "- Recursively loop through a folder and find all the markdown files\n",
    "- Call [@gandreadis](https://github.com/gandreadis) function to get the count of words for each file\n",
    "- Sum total words\n",
    "\n",
    "First of let's bring [@gandreadis](https://github.com/gandreadis) function into our program. It's been modified slightly to take in a file path, read the file contents in a variable, clean up contents and return the length of an array split by spaces.\n",
    "\n",
    "For example if the sentence (string) is 'How many words have I written in this blog?', when .split is called this returns an array of each word split by a space. Allowing us to calculate how many words, by counting the number of elements in the array."
   ]
  },
  {
   "cell_type": "code",
   "execution_count": 6,
   "metadata": {},
   "outputs": [
    {
     "name": "stdout",
     "output_type": "stream",
     "text": "['How', 'many', 'words', 'have', 'I', 'written', 'in', 'this', 'blog?']\n"
    }
   ],
   "source": [
    "testSentence = 'How many words have I written in this blog?'\n",
    "print(testSentence.split())"
   ]
  },
  {
   "cell_type": "code",
   "execution_count": 5,
   "metadata": {},
   "outputs": [],
   "source": [
    "# Source: https://github.com/gandreadis/markdown-word-count\n",
    "def count_words_in_markdown(filePath: str):\n",
    "    with open(filePath, 'r', encoding='utf8') as f:\n",
    "        text = f.read()\n",
    "\n",
    "    # Comments\n",
    "    text = re.sub(r'<!--(.*?)-->', '', text, flags=re.MULTILINE)\n",
    "    # Tabs to spaces\n",
    "    text = text.replace('\\t', '    ')\n",
    "    # More than 1 space to 4 spaces\n",
    "    text = re.sub(r'[ ]{2,}', '    ', text)\n",
    "    # Footnotes\n",
    "    text = re.sub(r'^\\[[^]]*\\][^(].*', '', text, flags=re.MULTILINE)\n",
    "    # Indented blocks of code\n",
    "    text = re.sub(r'^( {4,}[^-*]).*', '', text, flags=re.MULTILINE)\n",
    "    # Replace newlines with spaces for uniform handling\n",
    "    text = text.replace('\\n', ' ')\n",
    "    # Custom header IDs\n",
    "    text = re.sub(r'{#.*}', '', text)\n",
    "    # Remove images\n",
    "    text = re.sub(r'!\\[[^\\]]*\\]\\([^)]*\\)', '', text)\n",
    "    # Remove HTML tags\n",
    "    text = re.sub(r'</?[^>]*>', '', text)\n",
    "    # Remove special characters\n",
    "    text = re.sub(r'[#*`~\\-–^=<>+|/:]', '', text)\n",
    "    # Remove footnote references\n",
    "    text = re.sub(r'\\[[0-9]*\\]', '', text)\n",
    "    # Remove enumerations\n",
    "    text = re.sub(r'[0-9#]*\\.', '', text)\n",
    "\n",
    "    return len(text.split())"
   ]
  },
  {
   "cell_type": "code",
   "execution_count": 3,
   "metadata": {},
   "outputs": [
    {
     "name": "stdout",
     "output_type": "stream",
     "text": "57\n"
    }
   ],
   "source": [
    "# Top directory to search through\n",
    "topFolder: pathlib.Path = pathlib.Path().cwd().parent.parent.parent.parent.joinpath('content')\n",
    "\n",
    "allMarkdown: List  = []\n",
    "\n",
    "# Iterate through all files using pathlib\n",
    "for singleFile in topFolder.glob('**/*'):\n",
    "    if singleFile.suffix == '.md':\n",
    "        allMarkdown.append(singleFile)\n",
    "\n",
    "print(len(allMarkdown))"
   ]
  },
  {
   "cell_type": "code",
   "execution_count": 4,
   "metadata": {},
   "outputs": [
    {
     "name": "stdout",
     "output_type": "stream",
     "text": "31623\n"
    }
   ],
   "source": [
    "totalWordCount: int = 0\n",
    "for singleFile in allMarkdown:\n",
    "    totalWordCount += count_words_in_markdown(singleFile)\n",
    "\n",
    "print(totalWordCount)"
   ]
  },
  {
   "cell_type": "code",
   "execution_count": null,
   "metadata": {},
   "outputs": [],
   "source": []
  }
 ]
}