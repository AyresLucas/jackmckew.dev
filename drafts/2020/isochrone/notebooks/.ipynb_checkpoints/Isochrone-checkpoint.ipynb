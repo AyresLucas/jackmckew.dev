{
 "cells": [
  {
   "cell_type": "code",
   "execution_count": 1,
   "metadata": {},
   "outputs": [],
   "source": [
    "import geopandas as gpd\n",
    "from shapely.geometry import Point, LineString, Polygon\n",
    "import networkx as nx\n",
    "import osmnx as ox\n",
    "import matplotlib.pyplot as plt\n",
    "from descartes import PolygonPatch\n",
    "from IPython.display import IFrame\n",
    "ox.config(log_console=True, use_cache=True)"
   ]
  },
  {
   "cell_type": "code",
   "execution_count": 2,
   "metadata": {},
   "outputs": [],
   "source": [
    "def create_graph(loc, dist, transport_mode, loc_type=\"address\"):\n",
    "    # Transport mode = ‘walk’, ‘bike’, ‘drive’, ‘drive_service’, ‘all’, ‘all_private’, ‘none’\n",
    "    if loc_type == \"address\":\n",
    "        G = ox.graph_from_address(loc, distance=dist, network_type=transport_mode)\n",
    "    elif loc_type == \"points\":\n",
    "        G = ox.graph_from_point(loc, distance=dist, network_type=transport_mode )\n",
    "    return G"
   ]
  },
  {
   "cell_type": "code",
   "execution_count": 5,
   "metadata": {},
   "outputs": [
    {
     "data": {
      "text/html": [
       "\n",
       "        <iframe\n",
       "            width=\"900\"\n",
       "            height=\"500\"\n",
       "            src=\"ravensworth_mine.html\"\n",
       "            frameborder=\"0\"\n",
       "            allowfullscreen\n",
       "        ></iframe>\n",
       "        "
      ],
      "text/plain": [
       "<IPython.lib.display.IFrame at 0x26d661c1ac0>"
      ]
     },
     "execution_count": 5,
     "metadata": {},
     "output_type": "execute_result"
    }
   ],
   "source": [
    "# Create a graph from coordinate point\n",
    "# coordinates = create_graph((51.500734, -0.124518), 1500, \"drive\", loc_type=\"points\")\n",
    "\n",
    "ravensworth_mine = create_graph(\"Ravensworth, Australia\", 1500, \"drive\")\n",
    "\n",
    "# Plot the graph with Folium\n",
    "graph_map = ox.plot_graph_folium(ravensworth_mine, popup_attribute='name', edge_width=2)\n",
    "# save as html file then display map as an iframe\n",
    "filepath = 'ravensworth_mine.html'\n",
    "graph_map.save(filepath)\n",
    "IFrame(filepath, width=900, height=500)"
   ]
  },
  {
   "cell_type": "code",
   "execution_count": 8,
   "metadata": {},
   "outputs": [
    {
     "data": {
      "text/html": [
       "\n",
       "        <iframe\n",
       "            width=\"900\"\n",
       "            height=\"500\"\n",
       "            src=\"ravensworth_mine.html\"\n",
       "            frameborder=\"0\"\n",
       "            allowfullscreen\n",
       "        ></iframe>\n",
       "        "
      ],
      "text/plain": [
       "<IPython.lib.display.IFrame at 0x26d6645d8e0>"
      ]
     },
     "execution_count": 8,
     "metadata": {},
     "output_type": "execute_result"
    }
   ],
   "source": [
    "# Create a graph from coordinate point\n",
    "# coordinates = create_graph((51.500734, -0.124518), 1500, \"drive\", loc_type=\"points\")\n",
    "\n",
    "honeysuckle = create_graph(\"Honeysuckle Drive, Newcastle, Australia\", 1500, \"drive\")\n",
    "\n",
    "# Plot the graph with Folium\n",
    "graph_map = ox.plot_graph_folium(honeysuckle, popup_attribute='name', edge_width=2)\n",
    "# save as html file then display map as an iframe\n",
    "filepath = 'ravensworth_mine.html'\n",
    "graph_map.save(filepath)\n",
    "IFrame(filepath, width=900, height=500)"
   ]
  },
  {
   "cell_type": "code",
   "execution_count": null,
   "metadata": {},
   "outputs": [],
   "source": []
  }
 ],
 "metadata": {
  "kernelspec": {
   "display_name": "Python 3.8.1 64-bit ('isochrone': conda)",
   "language": "python",
   "name": "python38164bitisochroneconda996fffe4243a40df90d9fcbeaf87c995"
  },
  "language_info": {
   "codemirror_mode": {
    "name": "ipython",
    "version": 3
   },
   "file_extension": ".py",
   "mimetype": "text/x-python",
   "name": "python",
   "nbconvert_exporter": "python",
   "pygments_lexer": "ipython3",
   "version": "3.8.1"
  }
 },
 "nbformat": 4,
 "nbformat_minor": 4
}
