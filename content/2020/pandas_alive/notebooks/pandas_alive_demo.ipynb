{
 "cells": [
  {
   "cell_type": "markdown",
   "metadata": {},
   "source": [
    "In this tutorial we'll learn how to create a series of animations using Pandas_Alive. This post is rendered in the style of a Jupyter Notebook. Find the source here: <https://github.com/JackMcKew/jackmckew.dev/tree/master/content/2020/pandas_alive/notebooks/pandas_alive_demo.ipynb>.\n",
    "\n",
    "`Pandas_Alive` was created by me! I set out to develop this package to build a very specific data visualisation, which is also apart of a prior blog post which you can see at: <https://jackmckew.dev/covid-19-confirmed-cases-nsw-australia-animated-statistics-over-time.html>\n",
    "\n",
    "![Pandas_Alive Example]({static img/population-combined-charts.gif})"
   ]
  },
  {
   "cell_type": "markdown",
   "metadata": {},
   "source": [
    "### pandas_alive python package\n",
    "\n",
    "[pandas_alive](https://github.com/JackMcKew/pandas_alive) is a python package that automates the process of making these animations. Head over to the [github repository](https://github.com/JackMcKew/pandas_alive) to see even more examples!\n",
    "\n",
    "#### Installation\n",
    "\n",
    "Install with `pip install pandas_alive`\n",
    "\n",
    "### Supported Chart Types\n",
    "\n",
    "See the README on GitHub for current chart types at <https://github.com/JackMcKew/pandas_alive#currently-supported-chart-types>\n",
    "\n",
    "At the time of writing the currently supported chart types are:\n",
    "\n",
    "- Horizontal Bar Chart Races\n",
    "- Vertical Bar Chart Races\n",
    "- Line Charts\n",
    "- Scatter Charts\n",
    "- Pie Charts\n",
    "\n",
    "### Requirements\n",
    "\n",
    "`pandas_alive` utilises the [matplotlib.animation function](https://matplotlib.org/3.2.1/api/animation_api.html), thus requiring a writer library.\n",
    "\n",
    "Ensure to have one of the supported tooling software installed prior to use!\n",
    "\n",
    "- [ffmpeg](https://ffmpeg.org/)\n",
    "- [ImageMagick](https://imagemagick.org/index.php)\n",
    "- [Pillow](https://pillow.readthedocs.io/en/stable/)\n",
    "- See more at <https://matplotlib.org/3.2.1/api/animation_api.html#writer-classes>\n"
   ]
  },
  {
   "cell_type": "markdown",
   "metadata": {},
   "source": [
    "## Bar Chart Race\n",
    "\n",
    "Firstly let's build a bar chart race of the population change by year in all the countries of the world.\n",
    "\n",
    "Once pandas_alive is installed with `pip install pandas_alive`, we import the package, along with `pandas`."
   ]
  },
  {
   "cell_type": "code",
   "execution_count": 1,
   "metadata": {},
   "outputs": [],
   "source": [
    "import pandas_alive\n",
    "import pandas as pd"
   ]
  },
  {
   "cell_type": "markdown",
   "metadata": {},
   "source": [
    "Next we need to import the data!\n",
    "\n",
    "We do the following steps:\n",
    "\n",
    "1. Using `pandas`, we can read the data into a DataFrame using `pd.read_csv`, ensuring to use the keyword `parse_dates` on the Year column in our dataset.\n",
    "\n",
    "2. Next we rename the columns to make life easier.\n",
    "\n",
    "3. We're only interested in years 1800 onwards, so we can make a selection and drop the data that isn't on or after the year 1800.\n",
    "\n",
    "4. Finally we convert the 'Year' column into datetime format, read more about datetime format here: <https://docs.python.org/3/library/datetime.html>"
   ]
  },
  {
   "cell_type": "code",
   "execution_count": 2,
   "metadata": {},
   "outputs": [
    {
     "output_type": "display_data",
     "data": {
      "text/plain": "          Country Country Code       Year  Population\n3     Afghanistan          AFG 1800-01-01   3280000.0\n4     Afghanistan          AFG 1820-01-01   3280000.0\n5     Afghanistan          AFG 1850-01-01   3750000.0\n6     Afghanistan          AFG 1870-01-01   4207000.0\n7     Afghanistan          AFG 1900-01-01   5000000.0\n...           ...          ...        ...         ...\n3216     Zimbabwe          ZWE 1960-01-01   3751000.0\n3217     Zimbabwe          ZWE 1970-01-01   5514536.0\n3218     Zimbabwe          ZWE 1980-01-01   7169968.0\n3219     Zimbabwe          ZWE 1990-01-01  10156000.0\n3220     Zimbabwe          ZWE 2000-01-01  11820000.0\n\n[2923 rows x 4 columns]",
      "text/html": "<div>\n<style scoped>\n    .dataframe tbody tr th:only-of-type {\n        vertical-align: middle;\n    }\n\n    .dataframe tbody tr th {\n        vertical-align: top;\n    }\n\n    .dataframe thead th {\n        text-align: right;\n    }\n</style>\n<table border=\"1\" class=\"dataframe\">\n  <thead>\n    <tr style=\"text-align: right;\">\n      <th></th>\n      <th>Country</th>\n      <th>Country Code</th>\n      <th>Year</th>\n      <th>Population</th>\n    </tr>\n  </thead>\n  <tbody>\n    <tr>\n      <th>3</th>\n      <td>Afghanistan</td>\n      <td>AFG</td>\n      <td>1800-01-01</td>\n      <td>3280000.0</td>\n    </tr>\n    <tr>\n      <th>4</th>\n      <td>Afghanistan</td>\n      <td>AFG</td>\n      <td>1820-01-01</td>\n      <td>3280000.0</td>\n    </tr>\n    <tr>\n      <th>5</th>\n      <td>Afghanistan</td>\n      <td>AFG</td>\n      <td>1850-01-01</td>\n      <td>3750000.0</td>\n    </tr>\n    <tr>\n      <th>6</th>\n      <td>Afghanistan</td>\n      <td>AFG</td>\n      <td>1870-01-01</td>\n      <td>4207000.0</td>\n    </tr>\n    <tr>\n      <th>7</th>\n      <td>Afghanistan</td>\n      <td>AFG</td>\n      <td>1900-01-01</td>\n      <td>5000000.0</td>\n    </tr>\n    <tr>\n      <th>...</th>\n      <td>...</td>\n      <td>...</td>\n      <td>...</td>\n      <td>...</td>\n    </tr>\n    <tr>\n      <th>3216</th>\n      <td>Zimbabwe</td>\n      <td>ZWE</td>\n      <td>1960-01-01</td>\n      <td>3751000.0</td>\n    </tr>\n    <tr>\n      <th>3217</th>\n      <td>Zimbabwe</td>\n      <td>ZWE</td>\n      <td>1970-01-01</td>\n      <td>5514536.0</td>\n    </tr>\n    <tr>\n      <th>3218</th>\n      <td>Zimbabwe</td>\n      <td>ZWE</td>\n      <td>1980-01-01</td>\n      <td>7169968.0</td>\n    </tr>\n    <tr>\n      <th>3219</th>\n      <td>Zimbabwe</td>\n      <td>ZWE</td>\n      <td>1990-01-01</td>\n      <td>10156000.0</td>\n    </tr>\n    <tr>\n      <th>3220</th>\n      <td>Zimbabwe</td>\n      <td>ZWE</td>\n      <td>2000-01-01</td>\n      <td>11820000.0</td>\n    </tr>\n  </tbody>\n</table>\n<p>2923 rows × 4 columns</p>\n</div>"
     },
     "metadata": {}
    }
   ],
   "source": [
    "# Data Source: https://ourworldindata.org/grapher/population-by-country\n",
    "df = pd.read_csv('population-by-country.csv',parse_dates=['Year'])\n",
    "\n",
    "# Rename columns\n",
    "column_names = ['Country','Country Code','Year','Population']\n",
    "df.columns = column_names\n",
    "\n",
    "# Only years from 1800 onwards\n",
    "df = df[df['Year'].astype(int) >= 1800]\n",
    "\n",
    "# Convert Year column to datetime\n",
    "df['Year'] = pd.to_datetime(df['Year'])\n",
    "\n",
    "display(df)"
   ]
  },
  {
   "cell_type": "markdown",
   "metadata": {},
   "source": [
    "As we can see, our data is currently in a 'long' format; where each row is one time point per subject. Meaning each row (country) will have data in multiple rows. \n",
    "\n",
    "`pandas_alive` requires the data to be in a 'wide' format, where:\n",
    "\n",
    "- Each row represents a single point/period in time\n",
    "- Each column holds the value for a particular category (country in this case)\n",
    "- The index contains the time component (optional, if not used ensure to use `interpolate_period=False`)\n",
    "\n",
    "To convert our data from 'long' to 'wide' format, we can use the `pandas` function `pivot` to achieve this!\n",
    "\n",
    "> For any missing data we fill this with 0 using `.fillna(0)`"
   ]
  },
  {
   "cell_type": "code",
   "execution_count": 3,
   "metadata": {},
   "outputs": [
    {
     "output_type": "display_data",
     "data": {
      "text/plain": "Country     Afghanistan   Albania    Algeria  Andorra     Angola  \\\nYear                                                               \n1800-01-01    3280000.0  400000.0  2500000.0   2654.0  1567028.0   \n1810-01-01          0.0       0.0        0.0      0.0        0.0   \n1820-01-01    3280000.0  437000.0  2689000.0   2654.0  1567028.0   \n1830-01-01          0.0       0.0        0.0      0.0        0.0   \n1840-01-01          0.0       0.0        0.0      0.0        0.0   \n\nCountry     Antigua and Barbuda  Argentina   Armenia  Australia    Austria  \\\nYear                                                                         \n1800-01-01              37000.0   534000.0  413326.0   200000.0  3000000.0   \n1810-01-01                  0.0   406000.0       0.0        0.0        0.0   \n1820-01-01                  0.0   534000.0  413326.0   334000.0  3369000.0   \n1830-01-01                  0.0   634000.0       0.0   330000.0  3538000.0   \n1840-01-01                  0.0   768000.0       0.0   420000.0  3716000.0   \n\nCountry     ...  United Kingdom  United States  Uruguay  Uzbekistan  Vanuatu  \\\nYear        ...                                                                \n1800-01-01  ...      10750000.0      6000000.0  55000.0   1919159.0  27791.0   \n1810-01-01  ...      11970000.0      7240000.0      0.0         0.0      0.0   \n1820-01-01  ...      21239000.0      9980510.2  55000.0   1919159.0  27791.0   \n1830-01-01  ...      24139000.0     13240313.9      0.0         0.0      0.0   \n1840-01-01  ...      26745000.0     17443768.0      0.0         0.0      0.0   \n\nCountry     Venezuela    Vietnam      Yemen    Zambia   Zimbabwe  \nYear                                                              \n1800-01-01  1000000.0  4000000.0  2593000.0  747000.0  1085814.0  \n1810-01-01   802000.0        0.0        0.0       0.0        0.0  \n1820-01-01   718000.0  6551000.0  2593000.0       0.0  1085814.0  \n1830-01-01   887000.0        0.0        0.0       0.0        0.0  \n1840-01-01  1219000.0        0.0        0.0       0.0        0.0  \n\n[5 rows x 190 columns]",
      "text/html": "<div>\n<style scoped>\n    .dataframe tbody tr th:only-of-type {\n        vertical-align: middle;\n    }\n\n    .dataframe tbody tr th {\n        vertical-align: top;\n    }\n\n    .dataframe thead th {\n        text-align: right;\n    }\n</style>\n<table border=\"1\" class=\"dataframe\">\n  <thead>\n    <tr style=\"text-align: right;\">\n      <th>Country</th>\n      <th>Afghanistan</th>\n      <th>Albania</th>\n      <th>Algeria</th>\n      <th>Andorra</th>\n      <th>Angola</th>\n      <th>Antigua and Barbuda</th>\n      <th>Argentina</th>\n      <th>Armenia</th>\n      <th>Australia</th>\n      <th>Austria</th>\n      <th>...</th>\n      <th>United Kingdom</th>\n      <th>United States</th>\n      <th>Uruguay</th>\n      <th>Uzbekistan</th>\n      <th>Vanuatu</th>\n      <th>Venezuela</th>\n      <th>Vietnam</th>\n      <th>Yemen</th>\n      <th>Zambia</th>\n      <th>Zimbabwe</th>\n    </tr>\n    <tr>\n      <th>Year</th>\n      <th></th>\n      <th></th>\n      <th></th>\n      <th></th>\n      <th></th>\n      <th></th>\n      <th></th>\n      <th></th>\n      <th></th>\n      <th></th>\n      <th></th>\n      <th></th>\n      <th></th>\n      <th></th>\n      <th></th>\n      <th></th>\n      <th></th>\n      <th></th>\n      <th></th>\n      <th></th>\n      <th></th>\n    </tr>\n  </thead>\n  <tbody>\n    <tr>\n      <th>1800-01-01</th>\n      <td>3280000.0</td>\n      <td>400000.0</td>\n      <td>2500000.0</td>\n      <td>2654.0</td>\n      <td>1567028.0</td>\n      <td>37000.0</td>\n      <td>534000.0</td>\n      <td>413326.0</td>\n      <td>200000.0</td>\n      <td>3000000.0</td>\n      <td>...</td>\n      <td>10750000.0</td>\n      <td>6000000.0</td>\n      <td>55000.0</td>\n      <td>1919159.0</td>\n      <td>27791.0</td>\n      <td>1000000.0</td>\n      <td>4000000.0</td>\n      <td>2593000.0</td>\n      <td>747000.0</td>\n      <td>1085814.0</td>\n    </tr>\n    <tr>\n      <th>1810-01-01</th>\n      <td>0.0</td>\n      <td>0.0</td>\n      <td>0.0</td>\n      <td>0.0</td>\n      <td>0.0</td>\n      <td>0.0</td>\n      <td>406000.0</td>\n      <td>0.0</td>\n      <td>0.0</td>\n      <td>0.0</td>\n      <td>...</td>\n      <td>11970000.0</td>\n      <td>7240000.0</td>\n      <td>0.0</td>\n      <td>0.0</td>\n      <td>0.0</td>\n      <td>802000.0</td>\n      <td>0.0</td>\n      <td>0.0</td>\n      <td>0.0</td>\n      <td>0.0</td>\n    </tr>\n    <tr>\n      <th>1820-01-01</th>\n      <td>3280000.0</td>\n      <td>437000.0</td>\n      <td>2689000.0</td>\n      <td>2654.0</td>\n      <td>1567028.0</td>\n      <td>0.0</td>\n      <td>534000.0</td>\n      <td>413326.0</td>\n      <td>334000.0</td>\n      <td>3369000.0</td>\n      <td>...</td>\n      <td>21239000.0</td>\n      <td>9980510.2</td>\n      <td>55000.0</td>\n      <td>1919159.0</td>\n      <td>27791.0</td>\n      <td>718000.0</td>\n      <td>6551000.0</td>\n      <td>2593000.0</td>\n      <td>0.0</td>\n      <td>1085814.0</td>\n    </tr>\n    <tr>\n      <th>1830-01-01</th>\n      <td>0.0</td>\n      <td>0.0</td>\n      <td>0.0</td>\n      <td>0.0</td>\n      <td>0.0</td>\n      <td>0.0</td>\n      <td>634000.0</td>\n      <td>0.0</td>\n      <td>330000.0</td>\n      <td>3538000.0</td>\n      <td>...</td>\n      <td>24139000.0</td>\n      <td>13240313.9</td>\n      <td>0.0</td>\n      <td>0.0</td>\n      <td>0.0</td>\n      <td>887000.0</td>\n      <td>0.0</td>\n      <td>0.0</td>\n      <td>0.0</td>\n      <td>0.0</td>\n    </tr>\n    <tr>\n      <th>1840-01-01</th>\n      <td>0.0</td>\n      <td>0.0</td>\n      <td>0.0</td>\n      <td>0.0</td>\n      <td>0.0</td>\n      <td>0.0</td>\n      <td>768000.0</td>\n      <td>0.0</td>\n      <td>420000.0</td>\n      <td>3716000.0</td>\n      <td>...</td>\n      <td>26745000.0</td>\n      <td>17443768.0</td>\n      <td>0.0</td>\n      <td>0.0</td>\n      <td>0.0</td>\n      <td>1219000.0</td>\n      <td>0.0</td>\n      <td>0.0</td>\n      <td>0.0</td>\n      <td>0.0</td>\n    </tr>\n  </tbody>\n</table>\n<p>5 rows × 190 columns</p>\n</div>"
     },
     "metadata": {}
    }
   ],
   "source": [
    "# Pivot data to turn from `long` to `wide` format\n",
    "pivoted_df = df.pivot(index='Year',columns='Country',values='Population').fillna(0)\n",
    "\n",
    "display(pivoted_df.head(5))"
   ]
  },
  {
   "cell_type": "markdown",
   "metadata": {},
   "source": [
    "Now that our data is prepared in 'wide' format, we're ready to create the animation!\n",
    "\n",
    "Ensuring that `pandas_alive` has been imported, we can now call `.plot_animated()` on our DataFrame. If a `filename` is passed, along with an extension (eg, .mp4, .gif), `pandas_alive` will export the animation to a file. Otherwise, `pandas_alive` creates an instance of the animation for use in `pandas_alive.animate_multiple_plots()`.\n",
    "\n",
    "We can configure settings of `.plot_animated`, such as:\n",
    "- `n_visible` - Change the number of visible bars on the plot\n",
    "- `period_fmt` - Change the way the date is represented on the plot (eg, '%d/%m/%Y')\n",
    "- `title` - Set a title for the plot\n",
    "- `fixed_max` - Set the x-axis to be fixed from the lowest - biggest number\n",
    "- `perpendicular_bar_func` - Set the function to show a perpendicular bar (eg 'mean', 'min','max', custom function, etc)\n",
    "\n",
    "There are many more settings which you can read more over at the documentation:  <https://jackmckew.github.io/pandas_alive/generated/pandas_alive.plotting.plot.html#pandas_alive.plotting.plot>"
   ]
  },
  {
   "cell_type": "code",
   "execution_count": null,
   "metadata": {},
   "outputs": [],
   "source": [
    "# Generate bar chart race\n",
    "pivoted_df.plot_animated(filename='population-over-time-bar-chart-race.gif',n_visible=10,period_fmt=\"%Y\",title='Top 10 Populous Countries 1800-2000',fixed_max=True,perpendicular_bar_func='mean')"
   ]
  },
  {
   "cell_type": "markdown",
   "metadata": {},
   "source": [
    "![Population Bar Chart Race]({static img/population-over-time-bar-chart-race.gif})"
   ]
  },
  {
   "cell_type": "markdown",
   "metadata": {},
   "source": [
    "What if we wanted to show a custom function for each time period. This can be achieved with defining a function and returns a dictionary on where the label should be located. Let's show the total population for each time period in the bottom left."
   ]
  },
  {
   "cell_type": "code",
   "execution_count": null,
   "metadata": {},
   "outputs": [],
   "source": [
    "def current_total(values):\n",
    "    total = values.sum()\n",
    "    s = f'Total Population : {int(total):,}'\n",
    "    return {'x': .85, 'y': .2, 's': s, 'ha': 'right', 'size': 11}\n",
    "\n",
    "# Generate bar chart race\n",
    "\n",
    "pivoted_df.plot_animated(filename='population-over-time-bar-chart-race.gif',n_visible=10,period_fmt=\"%Y\",title='Top 10 Populous Countries 1800-2000',fixed_max=True,perpendicular_bar_func='mean',period_summary_func=current_total)"
   ]
  },
  {
   "cell_type": "markdown",
   "metadata": {},
   "source": [
    "![Population Bar Chart Race With Total]({static img/population-over-time-bar-chart-race-with-total.gif})"
   ]
  },
  {
   "cell_type": "markdown",
   "metadata": {},
   "source": [
    "## Line Charts\n",
    "\n",
    "Let's show the total population over time.\n",
    "\n",
    "Get the total population for each year by summing the entire row `.sum(axis=1)`"
   ]
  },
  {
   "cell_type": "code",
   "execution_count": 4,
   "metadata": {},
   "outputs": [
    {
     "output_type": "display_data",
     "data": {
      "text/plain": "Year\n1800-01-01    6.706962e+08\n1810-01-01    3.742780e+08\n1820-01-01    1.013967e+09\n1830-01-01    8.385709e+08\n1840-01-01    8.768713e+08\n1850-01-01    1.095515e+09\n1860-01-01    1.005687e+09\n1870-01-01    1.201439e+09\n1880-01-01    1.096303e+09\n1890-01-01    1.266791e+09\n1900-01-01    1.382444e+09\n1910-01-01    1.593107e+09\n1920-01-01    1.619245e+09\n1930-01-01    1.804095e+09\n1940-01-01    1.994912e+09\n1950-01-01    2.417460e+09\n1960-01-01    2.911371e+09\n1970-01-01    3.536889e+09\n1980-01-01    4.245110e+09\n1990-01-01    5.030435e+09\n2000-01-01    5.800368e+09\ndtype: float64"
     },
     "metadata": {}
    }
   ],
   "source": [
    "total_df = pivoted_df.sum(axis=1)\n",
    "\n",
    "display(total_df)"
   ]
  },
  {
   "cell_type": "markdown",
   "metadata": {},
   "source": [
    "Now let's create an animated line chart with this data using `pandas_alive`."
   ]
  },
  {
   "cell_type": "code",
   "execution_count": null,
   "metadata": {},
   "outputs": [],
   "source": [
    "total_df.plot_animated(kind='line',filename=\"total-population-over-time-line.gif\",period_fmt=\"%Y\",title=\"Total Population Over Time\")"
   ]
  },
  {
   "cell_type": "markdown",
   "metadata": {},
   "source": [
    "![Population Line Chart]({static img/total-population-over-time-line.gif})"
   ]
  },
  {
   "cell_type": "markdown",
   "metadata": {},
   "source": [
    "## Combining Both Charts\n",
    "\n",
    "Now that we've created a bar chart race & a line chart, let's combine the two charts into a single animation!\n",
    "\n",
    "Luckily, `pandas_alive` makes this simple, as we can pass a list of animations we'd like to combine into `pandas_alive.animate_multiple_plots`."
   ]
  },
  {
   "cell_type": "code",
   "execution_count": null,
   "metadata": {},
   "outputs": [],
   "source": [
    "bar_chart_race = pivoted_df.plot_animated(n_visible=10,period_fmt=\"%Y\",title='Top 10 Populous Countries 1800-2000')\n",
    "animated_line_chart = total_df.plot_animated(kind='line',period_label=False,title=\"Total Population Over Time\")\n",
    "\n",
    "pandas_alive.animate_multiple_plots('population-combined-charts.gif',[bar_chart_race,animated_line_chart])"
   ]
  },
  {
   "cell_type": "markdown",
   "metadata": {},
   "source": [
    "![Combined Charts]({static img/population-combined-charts.gif})"
   ]
  },
  {
   "cell_type": "markdown",
   "metadata": {},
   "source": [
    "## Obligatory XKCD Style Plot\n",
    "\n",
    "[XKCD](https://xkcd.com/) is an amazing comic by one of my favourite authors Randall Munro. Even better, we can style our plots in the same style of the comit with `plt.xkcd()`. See more at <https://matplotlib.org/3.1.1/api/_as_gen/matplotlib.pyplot.xkcd.html>"
   ]
  },
  {
   "cell_type": "code",
   "execution_count": 8,
   "metadata": {},
   "outputs": [
    {
     "output_type": "stream",
     "name": "stdout",
     "text": "Generating LineChart, plotting ['0']\n"
    }
   ],
   "source": [
    "import matplotlib.pyplot as plt\n",
    "\n",
    "with plt.xkcd():\n",
    "    animated_line_chart = total_df.plot_animated(filename='xkcd-line-plot.gif',kind='line',period_label=False,title=\"Total Population Over Time\")\n"
   ]
  },
  {
   "cell_type": "markdown",
   "metadata": {},
   "source": [
    "![XKCD Line Plot]({static img/xkcd-line-plot.gif})"
   ]
  },
  {
   "cell_type": "code",
   "execution_count": null,
   "metadata": {},
   "outputs": [],
   "source": []
  }
 ],
 "metadata": {
  "language_info": {
   "codemirror_mode": {
    "name": "ipython",
    "version": 3
   },
   "file_extension": ".py",
   "mimetype": "text/x-python",
   "name": "python",
   "nbconvert_exporter": "python",
   "pygments_lexer": "ipython3",
   "version": "3.8.1-final"
  },
  "orig_nbformat": 2,
  "kernelspec": {
   "name": "python38164bitenvvenv13fc4f2a555e4dea8b160819f8429074",
   "display_name": "Python 3.8.1 64-bit ('.env': venv)"
  }
 },
 "nbformat": 4,
 "nbformat_minor": 2
}