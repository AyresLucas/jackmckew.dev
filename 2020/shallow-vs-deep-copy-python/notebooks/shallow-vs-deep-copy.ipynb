{
 "cells": [
  {
   "cell_type": "markdown",
   "metadata": {},
   "source": [
    "## Shallow vs Deep Copy in Python\n",
    "\n",
    "One of the utmost crucial parts in all programming languages is maintaining variables. We create, modify, compare, delete our variables to build more complex systems that eventually make up the software we use. This is typically done by using the `=` operator (eg `x = 5`), but sometimes this doesn't always do what we expect. This is going to be a deep  dive into different types of `copy` in Python.\n",
    "\n",
    "When we say `x = 5`, we're actually not creating a new object (as in object oriented software), we're creating a binding between a target and an object. We can see this in action by using the `id()` function on our variables to see the 'identity' of an object."
   ]
  },
  {
   "cell_type": "code",
   "execution_count": 1,
   "metadata": {},
   "outputs": [
    {
     "name": "stdout",
     "output_type": "stream",
     "text": [
      "140711684720416\n",
      "140711684720416\n"
     ]
    }
   ],
   "source": [
    "x = 5\n",
    "print(id(x))\n",
    "print(id(5))"
   ]
  },
  {
   "cell_type": "markdown",
   "metadata": {},
   "source": [
    "As we can see, both `x` and `5` share an 'identity' meaning they are both the same object and the variable is merely a 'pointer' to the right object.\n",
    "\n",
    "But sometimes we actually want to create a new object, and this comes into using the `copy` module. But even with `copy` there's still 2 types of copy:\n",
    "\n",
    "- shallow copy\n",
    "- deep copy\n",
    "\n",
    "Let's take a look at this a bit closer, we'll start by creating a list (an object itself), with some integer elements and an embedded list."
   ]
  },
  {
   "cell_type": "code",
   "execution_count": 2,
   "metadata": {
    "scrolled": true
   },
   "outputs": [
    {
     "name": "stdout",
     "output_type": "stream",
     "text": [
      "A contents:  [1, 2, [3, 4], 5]\n"
     ]
    }
   ],
   "source": [
    "A = [1,2,[3,4],5]\n",
    "\n",
    "print(\"A contents: \",A)"
   ]
  },
  {
   "cell_type": "markdown",
   "metadata": {},
   "source": [
    "Now similar to our `x = 5` example before, let's assign a new variable `B` and set it to `A` to see what happens to the identities."
   ]
  },
  {
   "cell_type": "code",
   "execution_count": 3,
   "metadata": {},
   "outputs": [
    {
     "name": "stdout",
     "output_type": "stream",
     "text": [
      "A's object id is 2392779886784\n",
      "B's object id is 2392779886784\n"
     ]
    }
   ],
   "source": [
    "B = A\n",
    "\n",
    "print(f\"A's object id is {id(A)}\")\n",
    "\n",
    "print(f\"B's object id is {id(B)}\")"
   ]
  },
  {
   "cell_type": "markdown",
   "metadata": {},
   "source": [
    "Funnily enough, the ids are the same! Meaning they are both the same object. This would mean if we were to modify the contents of the elements in `A`, the same modifications would be made in `B`, which is not obvious."
   ]
  },
  {
   "cell_type": "code",
   "execution_count": 4,
   "metadata": {},
   "outputs": [
    {
     "name": "stdout",
     "output_type": "stream",
     "text": [
      "Let's modify A[2][0] = 100\n",
      "A contents:  [1, 2, [100, 4], 5]\n",
      "B contents:  [1, 2, [100, 4], 5]\n",
      "Is A == B?  True\n"
     ]
    }
   ],
   "source": [
    "print(\"Let's modify A[2][0] = 100\")\n",
    "\n",
    "A[2][0] = 100\n",
    "\n",
    "print(\"A contents: \",A)\n",
    "\n",
    "print(\"B contents: \",B)\n",
    "\n",
    "print(\"Is A == B? \", A==B)"
   ]
  },
  {
   "cell_type": "markdown",
   "metadata": {},
   "source": [
    "Now if we were trying to use `B` as a separate entity to `A` this could cause all sorts of grief, and be very difficult to track down.\n",
    "\n",
    "Let's reset our variable(s) back to it's original state so we can see how shallow & deep copies could change this behaviour."
   ]
  },
  {
   "cell_type": "code",
   "execution_count": 5,
   "metadata": {},
   "outputs": [
    {
     "name": "stdout",
     "output_type": "stream",
     "text": [
      "Let's reset A[2][0] = 3\n"
     ]
    }
   ],
   "source": [
    "print(\"Let's reset A[2][0] = 3\")\n",
    "A[2][0] = 3"
   ]
  },
  {
   "cell_type": "markdown",
   "metadata": {},
   "source": [
    "## Shallow Copy"
   ]
  },
  {
   "cell_type": "code",
   "execution_count": 6,
   "metadata": {},
   "outputs": [
    {
     "name": "stdout",
     "output_type": "stream",
     "text": [
      "A's object id is 2392779886784\n",
      "C's object id is 2392779896256\n"
     ]
    }
   ],
   "source": [
    "import copy\n",
    "\n",
    "C = copy.copy(A)\n",
    "\n",
    "print(f\"A's object id is {id(A)}\")\n",
    "\n",
    "print(f\"C's object id is {id(C)}\")\n"
   ]
  },
  {
   "cell_type": "markdown",
   "metadata": {},
   "source": [
    "Fantastic! Now we can see that our `A` and `C` have separate identities, now we would expect this to behave like separate entities, right? Unfortunately not, while this does have a use case, the contents inside the list still have matching identities, meaning if we modify the contents of `C`, it'll be reflected in `A`, again a not obvious behaviour. But this is known as a shallow copy, meaning a new object is created but it still references the original data.\n",
    "\n",
    "Let's demonstrate this by modifying one of the elements, and seeing if it's reflected in both variables."
   ]
  },
  {
   "cell_type": "code",
   "execution_count": 7,
   "metadata": {},
   "outputs": [
    {
     "name": "stdout",
     "output_type": "stream",
     "text": [
      "A[2][0]'s object id is 140711684720352\n",
      "C[2][0]'s object id is 140711684720352\n",
      "Let's modify C[2][0] = 100 (note if this was not an embedded list this will creates a new instance of the C[0] element and won't update original list)\n",
      "A contents:  [1, 2, [100, 4], 5]\n",
      "C contents:  [1, 2, [100, 4], 5]\n",
      "Is A == C?  True\n",
      "Is A[2][0] == C[2][0]?  True\n"
     ]
    }
   ],
   "source": [
    "print(f\"A[2][0]'s object id is {id(A[2][0])}\")\n",
    "\n",
    "print(f\"C[2][0]'s object id is {id(C[2][0])}\")\n",
    "\n",
    "print(\"Let's modify C[2][0] = 100 (note if this was not an embedded list this will creates a new instance of the C[0] element and won't update original list)\")\n",
    "\n",
    "C[2][0] = 100\n",
    "\n",
    "print(\"A contents: \",A)\n",
    "\n",
    "print(\"C contents: \",C)\n",
    "\n",
    "print(\"Is A == C? \", A==C)\n",
    "\n",
    "print(\"Is A[2][0] == C[2][0]? \", A[0]==C[0])"
   ]
  },
  {
   "cell_type": "markdown",
   "metadata": {},
   "source": [
    "But why are we using an embedded list specifically? This is one percularity, that like most things in this blog post, isn't obvious. Note that if we modified the contents of an element in the shallow copy that was an integer, it wou;dn't be reflected in both variables. Let's try this out."
   ]
  },
  {
   "cell_type": "code",
   "execution_count": 8,
   "metadata": {},
   "outputs": [
    {
     "name": "stdout",
     "output_type": "stream",
     "text": [
      "A[1]'s object id is 140711684720320\n",
      "C[1]'s object id is 140711684720320\n",
      "Let's modify C[1] = 100\n",
      "A contents:  [1, 2, [100, 4], 5]\n",
      "C contents:  [1, 100, [100, 4], 5]\n",
      "Is A == C?  False\n",
      "Is A[1] == C[1]?  False\n"
     ]
    }
   ],
   "source": [
    "print(f\"A[1]'s object id is {id(A[1])}\")\n",
    "\n",
    "print(f\"C[1]'s object id is {id(C[1])}\")\n",
    "\n",
    "print(\"Let's modify C[1] = 100\")\n",
    "\n",
    "C[1] = 100\n",
    "\n",
    "print(\"A contents: \",A)\n",
    "\n",
    "print(\"C contents: \",C)\n",
    "\n",
    "print(\"Is A == C? \", A==C)\n",
    "\n",
    "print(\"Is A[1] == C[1]? \", A[1]==C[1])"
   ]
  },
  {
   "cell_type": "markdown",
   "metadata": {},
   "source": [
    "This is due to the fact that the only difference between shallow and deep copies is for compound objects (objects that contain other objects, like lists within lists).\n",
    "\n",
    "Next let's reset our list, and take a look at deep copy."
   ]
  },
  {
   "cell_type": "code",
   "execution_count": 9,
   "metadata": {},
   "outputs": [
    {
     "name": "stdout",
     "output_type": "stream",
     "text": [
      "Let's reset A[2][0] = 3 and A[1] = 2\n"
     ]
    }
   ],
   "source": [
    "print(\"Let's reset A[2][0] = 3 and A[1] = 2\")\n",
    "\n",
    "A[1] = 2\n",
    "A[2][0] = 3"
   ]
  },
  {
   "cell_type": "markdown",
   "metadata": {},
   "source": [
    "## Deep Copy\n",
    "\n",
    "Now we're at the deep copy, and as we'd expect it creates a completely new object, and recursively creates new objects for embedded objects (compound objects). This means when we edit anything inside one of these compound objects, the changes won't be reflected in the other object as we'd sometimes originally expect. Let's demonstrate this."
   ]
  },
  {
   "cell_type": "code",
   "execution_count": 10,
   "metadata": {},
   "outputs": [
    {
     "name": "stdout",
     "output_type": "stream",
     "text": [
      "Let's do a deep copy\n",
      "A's object id is 2392779886784\n",
      "D's object id is 2392779846656\n",
      "Let's modify A[2][0] = 100\n",
      "[1, 2, [100, 4], 5]\n",
      "[1, 2, [3, 4], 5]\n"
     ]
    }
   ],
   "source": [
    "print(\"Let's do a deep copy\")\n",
    "\n",
    "D = copy.deepcopy(A)\n",
    "\n",
    "print(f\"A's object id is {id(A)}\")\n",
    "\n",
    "print(f\"D's object id is {id(D)}\")\n",
    "\n",
    "print(\"Let's modify A[2][0] = 100\")\n",
    "\n",
    "A[2][0] = 100\n",
    "\n",
    "print(A)\n",
    "\n",
    "print(D)"
   ]
  },
  {
   "cell_type": "markdown",
   "metadata": {},
   "source": [
    "Hopefully being aware of how the default behaviour works, and the potential solutions will help when debugging strange behaviour when using variables in Python!"
   ]
  }
 ],
 "metadata": {
  "kernelspec": {
   "display_name": "Python 3",
   "language": "python",
   "name": "python3"
  },
  "language_info": {
   "codemirror_mode": {
    "name": "ipython",
    "version": 3
   },
   "file_extension": ".py",
   "mimetype": "text/x-python",
   "name": "python",
   "nbconvert_exporter": "python",
   "pygments_lexer": "ipython3",
   "version": "3.8.1"
  }
 },
 "nbformat": 4,
 "nbformat_minor": 2
}
