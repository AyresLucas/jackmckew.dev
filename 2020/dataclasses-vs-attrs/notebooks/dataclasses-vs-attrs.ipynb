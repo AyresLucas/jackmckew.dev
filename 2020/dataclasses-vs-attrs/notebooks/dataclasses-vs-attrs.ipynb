{
 "cells": [
  {
   "cell_type": "markdown",
   "metadata": {},
   "source": [
    "Python 3.7 introduced dataclasses, a handy decorator that can make creating classes so much easier and seamless. This post will go into comparing a regular class, a 'dataclass' and a class using attrs. Dataclasses were based on attrs, which is a python package that also aims to make creating classes a much more enjoyable experience. Dataclasses are included in the standard library (provided 3.7+), while to enable attrs, it must be installed with pip (eg, `pip install attrs`). Mainly they are for automating the (sometimes) painful experience of writing dunder methods. You can read more about dunder methods in a prevous post here: <https://jackmckew.dev/dunders-in-python.html>"
   ]
  },
  {
   "cell_type": "markdown",
   "metadata": {},
   "source": [
    "## Dataclasses vs Attrs vs Pydantic: Features\n",
    "\n",
    "| Feature       | Dataclass | Attrs | Pydantic |\n",
    "|---------      |:-----------:|:-------:|:-------:|\n",
    "| frozen        |✅        |✅      |✅      |\n",
    "| defaults      |✅        |✅      |✅      |\n",
    "| totuple       |✅        |✅      |✅      |\n",
    "| todict        |✅        |✅      |✅      |\n",
    "| validators    |❌        |✅      |✅      |\n",
    "| converters    |❌        |✅      |✅      |\n",
    "| slotted       |❌        |✅      |❌        |\n",
    "| programmatic creation       |❌        |✅      |❌        |\n",
    "\n",
    "## When to use Dataclasses\n",
    "\n",
    "Dataclasses are mainly about 'grouping' variables together. Choose dataclasses if:\n",
    "\n",
    "- The main concern is around the type of the variable, not the value\n",
    "- Adding another package dependancy isn't trivial\n",
    "\n",
    "## When to use Attrs\n",
    "\n",
    "Attrs are about both grouping & validating. Choose attrs if:\n",
    "\n",
    "- You're concerned around the performance (attrs supports slotted class generation which are optimized for CPython)\n",
    "\n",
    "## When to use Pydantic\n",
    "\n",
    "Pydantic is about thorough data validation. Choose `pydantic` if:\n",
    "\n",
    "- You want to validate the values inside each class\n",
    "- You want to santise the input"
   ]
  },
  {
   "cell_type": "markdown",
   "metadata": {},
   "source": [
    "## Example Class\n",
    "\n",
    "First off let's start with our example class in the default way that it would be implemented in Python.\n",
    "\n",
    "> We will also use type hints in our class defintions, this is best practice for ensuring our variables are the type we intend them to be. Type hints are also integrated into attrs for creating classes."
   ]
  },
  {
   "cell_type": "code",
   "execution_count": 1,
   "metadata": {},
   "outputs": [],
   "source": [
    "import typing\n",
    "\n",
    "class Data:\n",
    "    def __init__(self, x: float=None, y:float=None, kwargs:typing.Dict=None):\n",
    "        self.x = x\n",
    "        self.y = y\n",
    "        self.kwargs = kwargs"
   ]
  },
  {
   "cell_type": "markdown",
   "metadata": {},
   "source": [
    "The arguments passed to the `__init__` constructor are duplicated when instantiating the parameters of the class with the same arguments. This wouldn't typically be the case if the arguments and the parameters don't match. Luckily this is something that both dataclasses and attrs can help with (which we'll see later on).\n",
    "\n",
    "Now to demonstrate all the different things that both dataclasses & attrs automates for us, let's define a function which takes in the class constructor and prints out all the different elements for each of our classes."
   ]
  },
  {
   "cell_type": "code",
   "execution_count": 2,
   "metadata": {},
   "outputs": [
    {
     "output_type": "stream",
     "name": "stdout",
     "text": "Repr/str dunder method representation: <__main__.Data object at 0x00000269A5758A90>\nEquality dunder method (using ==) (should be True if implemented): False\nEquality dunder method (using is) (should be True if implemented): False\n"
    }
   ],
   "source": [
    "def class_tester(class_constructor):\n",
    "    test_class_1 = class_constructor()\n",
    "    test_class_2 = class_constructor()\n",
    "\n",
    "    print(f\"Repr/str dunder method representation: {test_class_1}\")\n",
    "\n",
    "    print(f\"Equality dunder method (using ==) (should be True if implemented): {test_class_1 == test_class_2}\")\n",
    "\n",
    "    print(f\"Equality dunder method (using is) (should be True if implemented): {test_class_1 is test_class_2}\")\n",
    "\n",
    "class_tester(Data)"
   ]
  },
  {
   "cell_type": "markdown",
   "metadata": {},
   "source": [
    "## Dataclasses\n",
    "\n",
    "Dataclasses by default automatically initialise a bunch of dunder methods for us in a class such as:\n",
    "- `__init__` The initialisation method for the class\n",
    "- `__repr__` How the class is represented with print() is called\n",
    "- `__str__` How the class is represented as a string (called with `__repr__`)\n",
    "- `__eq__` Used when equality operators are used (eg, `==`)\n",
    "- `__hash__` The hash for the class (called with `__eq__`)\n",
    "\n",
    "There's also a stack of other dunder methods that can also be automated which are detailed at: <https://docs.python.org/3/library/dataclasses.html>"
   ]
  },
  {
   "cell_type": "code",
   "execution_count": 3,
   "metadata": {},
   "outputs": [
    {
     "output_type": "stream",
     "name": "stdout",
     "text": "Repr/str dunder method representation: Data(x=None, y=None, kwargs=None)\nEquality dunder method (using ==) (should be True if implemented): True\nEquality dunder method (using is) (should be True if implemented): False\n"
    }
   ],
   "source": [
    "from dataclasses import dataclass\n",
    "\n",
    "@dataclass\n",
    "class Data:\n",
    "    x: float = None\n",
    "    y: float = None\n",
    "    kwargs: typing.Dict = None\n",
    "\n",
    "class_tester(Data)"
   ]
  },
  {
   "cell_type": "markdown",
   "metadata": {},
   "source": [
    "Finally we have our attrs class, there is two main 'functions' apart of attrs which are `attr.s` and `attr.ib()`. `attr.s` is the decorator to put on a class to have the package initialise the dunder methods for us, while `attr.ib()` can be used (optional) for defining the parameters of the class. There is lots of optional arguments for both `attr.s` and `attr.ib()`, which documented at: <https://www.attrs.org/en/stable/api.html>. Mainly the optional arguments are for enabling/disabling the differing dunder methods in the class."
   ]
  },
  {
   "cell_type": "code",
   "execution_count": 4,
   "metadata": {},
   "outputs": [
    {
     "output_type": "stream",
     "name": "stdout",
     "text": "Repr/str dunder method representation: Data(x=None, y=None, kwargs=None)\nEquality dunder method (using ==) (should be True if implemented): True\nEquality dunder method (using is) (should be True if implemented): False\n"
    }
   ],
   "source": [
    "import attr\n",
    "\n",
    "@attr.s\n",
    "class Data:\n",
    "    x: float = attr.ib(default=None)\n",
    "    y: float = attr.ib(default=None)\n",
    "    kwargs: typing.Dict = attr.ib(default=None)\n",
    "\n",
    "class_tester(Data)"
   ]
  },
  {
   "cell_type": "markdown",
   "metadata": {},
   "source": [
    "## Attrs\n",
    "\n",
    "Next let's dive into `attrs`\n",
    "\n",
    "### Validators in attrs\n",
    "\n",
    "One major functionality that `attrs` has but dataclasses doesn't, is validators. This enables us to ensure that when our classes are being created that we validate the inputs to any specific values. Let's build an example that ensure our parameter `x` is greater than 42, and if not raise an error to the user."
   ]
  },
  {
   "cell_type": "code",
   "execution_count": 5,
   "metadata": {},
   "outputs": [
    {
     "output_type": "error",
     "ename": "ValueError",
     "evalue": "Must be more than the meaning of life!",
     "traceback": [
      "\u001b[1;31m---------------------------------------------------------------------------\u001b[0m",
      "\u001b[1;31mValueError\u001b[0m                                Traceback (most recent call last)",
      "\u001b[1;32m<ipython-input-5-1f0c941b3dd2>\u001b[0m in \u001b[0;36m<module>\u001b[1;34m\u001b[0m\n\u001b[0;32m     14\u001b[0m \u001b[0mtest_data_point_1\u001b[0m \u001b[1;33m=\u001b[0m \u001b[0mValidatedData\u001b[0m\u001b[1;33m(\u001b[0m\u001b[1;36m42\u001b[0m\u001b[1;33m)\u001b[0m\u001b[1;33m\u001b[0m\u001b[1;33m\u001b[0m\u001b[0m\n\u001b[0;32m     15\u001b[0m \u001b[1;33m\u001b[0m\u001b[0m\n\u001b[1;32m---> 16\u001b[1;33m \u001b[0mtest_data_point_2\u001b[0m \u001b[1;33m=\u001b[0m \u001b[0mValidatedData\u001b[0m\u001b[1;33m(\u001b[0m\u001b[1;33m-\u001b[0m\u001b[1;36m35\u001b[0m\u001b[1;33m)\u001b[0m\u001b[1;33m\u001b[0m\u001b[1;33m\u001b[0m\u001b[0m\n\u001b[0m",
      "\u001b[1;32m<attrs generated init __main__.ValidatedData>\u001b[0m in \u001b[0;36m__init__\u001b[1;34m(self, x, y, kwargs)\u001b[0m\n\u001b[0;32m      4\u001b[0m     \u001b[0mself\u001b[0m\u001b[1;33m.\u001b[0m\u001b[0mkwargs\u001b[0m \u001b[1;33m=\u001b[0m \u001b[0mkwargs\u001b[0m\u001b[1;33m\u001b[0m\u001b[1;33m\u001b[0m\u001b[0m\n\u001b[0;32m      5\u001b[0m     \u001b[1;32mif\u001b[0m \u001b[0m_config\u001b[0m\u001b[1;33m.\u001b[0m\u001b[0m_run_validators\u001b[0m \u001b[1;32mis\u001b[0m \u001b[1;32mTrue\u001b[0m\u001b[1;33m:\u001b[0m\u001b[1;33m\u001b[0m\u001b[1;33m\u001b[0m\u001b[0m\n\u001b[1;32m----> 6\u001b[1;33m         \u001b[0m__attr_validator_x\u001b[0m\u001b[1;33m(\u001b[0m\u001b[0mself\u001b[0m\u001b[1;33m,\u001b[0m \u001b[0m__attr_x\u001b[0m\u001b[1;33m,\u001b[0m \u001b[0mself\u001b[0m\u001b[1;33m.\u001b[0m\u001b[0mx\u001b[0m\u001b[1;33m)\u001b[0m\u001b[1;33m\u001b[0m\u001b[1;33m\u001b[0m\u001b[0m\n\u001b[0m",
      "\u001b[1;32mc:\\Users\\jackm\\Documents\\GitHub\\jackmckew.dev\\drafts\\2020\\dataclasses-vs-attrs\\.env\\lib\\site-packages\\attr\\_make.py\u001b[0m in \u001b[0;36m__call__\u001b[1;34m(self, inst, attr, value)\u001b[0m\n\u001b[0;32m   2144\u001b[0m     \u001b[1;32mdef\u001b[0m \u001b[0m__call__\u001b[0m\u001b[1;33m(\u001b[0m\u001b[0mself\u001b[0m\u001b[1;33m,\u001b[0m \u001b[0minst\u001b[0m\u001b[1;33m,\u001b[0m \u001b[0mattr\u001b[0m\u001b[1;33m,\u001b[0m \u001b[0mvalue\u001b[0m\u001b[1;33m)\u001b[0m\u001b[1;33m:\u001b[0m\u001b[1;33m\u001b[0m\u001b[1;33m\u001b[0m\u001b[0m\n\u001b[0;32m   2145\u001b[0m         \u001b[1;32mfor\u001b[0m \u001b[0mv\u001b[0m \u001b[1;32min\u001b[0m \u001b[0mself\u001b[0m\u001b[1;33m.\u001b[0m\u001b[0m_validators\u001b[0m\u001b[1;33m:\u001b[0m\u001b[1;33m\u001b[0m\u001b[1;33m\u001b[0m\u001b[0m\n\u001b[1;32m-> 2146\u001b[1;33m             \u001b[0mv\u001b[0m\u001b[1;33m(\u001b[0m\u001b[0minst\u001b[0m\u001b[1;33m,\u001b[0m \u001b[0mattr\u001b[0m\u001b[1;33m,\u001b[0m \u001b[0mvalue\u001b[0m\u001b[1;33m)\u001b[0m\u001b[1;33m\u001b[0m\u001b[1;33m\u001b[0m\u001b[0m\n\u001b[0m\u001b[0;32m   2147\u001b[0m \u001b[1;33m\u001b[0m\u001b[0m\n\u001b[0;32m   2148\u001b[0m \u001b[1;33m\u001b[0m\u001b[0m\n",
      "\u001b[1;32m<ipython-input-5-1f0c941b3dd2>\u001b[0m in \u001b[0;36mmore_than_the_meaning_of_life\u001b[1;34m(self, attribute, value)\u001b[0m\n\u001b[0;32m     10\u001b[0m     \u001b[1;32mdef\u001b[0m \u001b[0mmore_than_the_meaning_of_life\u001b[0m\u001b[1;33m(\u001b[0m\u001b[0mself\u001b[0m\u001b[1;33m,\u001b[0m \u001b[0mattribute\u001b[0m\u001b[1;33m,\u001b[0m \u001b[0mvalue\u001b[0m\u001b[1;33m)\u001b[0m\u001b[1;33m:\u001b[0m\u001b[1;33m\u001b[0m\u001b[1;33m\u001b[0m\u001b[0m\n\u001b[0;32m     11\u001b[0m         \u001b[1;32mif\u001b[0m \u001b[1;32mnot\u001b[0m \u001b[0mvalue\u001b[0m \u001b[1;33m>=\u001b[0m \u001b[1;36m42\u001b[0m\u001b[1;33m:\u001b[0m\u001b[1;33m\u001b[0m\u001b[1;33m\u001b[0m\u001b[0m\n\u001b[1;32m---> 12\u001b[1;33m             \u001b[1;32mraise\u001b[0m \u001b[0mValueError\u001b[0m\u001b[1;33m(\u001b[0m\u001b[1;34m\"Must be more than the meaning of life!\"\u001b[0m\u001b[1;33m)\u001b[0m\u001b[1;33m\u001b[0m\u001b[1;33m\u001b[0m\u001b[0m\n\u001b[0m\u001b[0;32m     13\u001b[0m \u001b[1;33m\u001b[0m\u001b[0m\n\u001b[0;32m     14\u001b[0m \u001b[0mtest_data_point_1\u001b[0m \u001b[1;33m=\u001b[0m \u001b[0mValidatedData\u001b[0m\u001b[1;33m(\u001b[0m\u001b[1;36m42\u001b[0m\u001b[1;33m)\u001b[0m\u001b[1;33m\u001b[0m\u001b[1;33m\u001b[0m\u001b[0m\n",
      "\u001b[1;31mValueError\u001b[0m: Must be more than the meaning of life!"
     ]
    }
   ],
   "source": [
    "import attr\n",
    "\n",
    "@attr.s\n",
    "class ValidatedData:\n",
    "    x: float = attr.ib(default=None,validator=attr.validators.instance_of(int))\n",
    "    y: float = attr.ib(default=None)\n",
    "    kwargs: typing.Dict = attr.ib(default=None)\n",
    "\n",
    "    @x.validator\n",
    "    def more_than_the_meaning_of_life(self, attribute, value):\n",
    "        if not value >= 42:\n",
    "            raise ValueError(\"Must be more than the meaning of life!\")\n",
    "\n",
    "test_data_point_1 = ValidatedData(42)\n",
    "\n",
    "test_data_point_2 = ValidatedData(-35)\n"
   ]
  },
  {
   "cell_type": "markdown",
   "metadata": {},
   "source": [
    "### Converters in Attrs\n",
    "\n",
    "Converters are used for the sanitisation of the input data when creating classes. If we want to support our users to create our parameters which are intended to be integers, we can santise this input with converters. This let's our classes be much more flexible with our users while still keeping stability in the typing behind the parameters."
   ]
  },
  {
   "cell_type": "code",
   "execution_count": 6,
   "metadata": {},
   "outputs": [
    {
     "output_type": "stream",
     "name": "stdout",
     "text": "ConvertedData(x=42, y=None, kwargs=None)\nConvertedData(x=42, y=None, kwargs=None)\n"
    }
   ],
   "source": [
    "import attr\n",
    "\n",
    "@attr.s\n",
    "class ConvertedData:\n",
    "    x: float = attr.ib(default=None,converter=int)\n",
    "    y: float = attr.ib(default=None)\n",
    "    kwargs: typing.Dict = attr.ib(default=None)\n",
    "\n",
    "    @x.validator\n",
    "    def more_than_the_meaning_of_life(self, attribute, value):\n",
    "        if not value >= 42:\n",
    "            raise ValueError(\"Must be more than the meaning of life!\")\n",
    "\n",
    "test_data_point_1 = ConvertedData(42)\n",
    "\n",
    "print(test_data_point_1)\n",
    "\n",
    "test_data_point_2 = ConvertedData(\"42\")\n",
    "\n",
    "print(test_data_point_2)\n"
   ]
  },
  {
   "cell_type": "markdown",
   "metadata": {},
   "source": [
    "### Programmatic Creation of Attrs\n",
    "\n",
    "In some cases you may want to create classes programmatically, well attrs doesn't let us down and provides a method for us! We can easily just pass a dictionary of all the parameters we need."
   ]
  },
  {
   "cell_type": "code",
   "execution_count": 7,
   "metadata": {},
   "outputs": [
    {
     "output_type": "stream",
     "name": "stdout",
     "text": "Data(x=None, y=None, kwargs=None)\nData(x=None, y=None, kwargs=None)\n"
    }
   ],
   "source": [
    "ProgrammaticData = attr.make_class(\"Data\",\n",
    "                            {'x': attr.ib(default=None),\n",
    "                            'y': attr.ib(default=None),\n",
    "                            'kwargs': attr.ib(default=None)}\n",
    "                            )\n",
    "\n",
    "print(Data())\n",
    "print(ProgrammaticData())"
   ]
  },
  {
   "cell_type": "markdown",
   "metadata": {},
   "source": [
    "## PyDantic Dataclasses\n",
    "\n",
    "`Pydantic` is a python package for data validation and settings management using python type annotations. Perfect, this is what we were trying to do with dataclasses and attrs. Even more so `pydantic` provides a dataclass decorator to enable data validation on our dataclasses. This enables us to create extensible classes with data validation even easier than `attrs`!\n",
    "\n",
    "The biggest benefit here, is now, by default the type annotations are enforced at runtime and any invalid data raises a nicely formatted error."
   ]
  },
  {
   "cell_type": "code",
   "execution_count": 8,
   "metadata": {},
   "outputs": [
    {
     "output_type": "stream",
     "name": "stdout",
     "text": "Repr/str dunder method representation: Data(x=None, y=None, kwargs=None)\nEquality dunder method (using ==) (should be True if implemented): True\nEquality dunder method (using is) (should be True if implemented): False\n"
    }
   ],
   "source": [
    "from pydantic.dataclasses import dataclass\n",
    "import typing\n",
    "\n",
    "@dataclass\n",
    "class Data:\n",
    "    x: float = None\n",
    "    y: float = None\n",
    "    kwargs: typing.Dict = None\n",
    "\n",
    "class_tester(Data)"
   ]
  },
  {
   "cell_type": "markdown",
   "metadata": {},
   "source": [
    "`pydantic` also automatically implements conversion & data validation, let's test this out."
   ]
  },
  {
   "cell_type": "code",
   "execution_count": 9,
   "metadata": {},
   "outputs": [
    {
     "output_type": "stream",
     "name": "stdout",
     "text": "Data(x=123.0, y=None, kwargs=None)\n"
    },
    {
     "output_type": "error",
     "ename": "ValidationError",
     "evalue": "1 validation error for Data\nx\n  value is not a valid float (type=type_error.float)",
     "traceback": [
      "\u001b[1;31m---------------------------------------------------------------------------\u001b[0m",
      "\u001b[1;31mValidationError\u001b[0m                           Traceback (most recent call last)",
      "\u001b[1;32m<ipython-input-9-67163ff1f554>\u001b[0m in \u001b[0;36m<module>\u001b[1;34m\u001b[0m\n\u001b[0;32m      1\u001b[0m \u001b[0mtest_data_point\u001b[0m \u001b[1;33m=\u001b[0m \u001b[0mData\u001b[0m\u001b[1;33m(\u001b[0m\u001b[0mx\u001b[0m\u001b[1;33m=\u001b[0m\u001b[1;34m'123'\u001b[0m\u001b[1;33m)\u001b[0m\u001b[1;33m\u001b[0m\u001b[1;33m\u001b[0m\u001b[0m\n\u001b[0;32m      2\u001b[0m \u001b[0mprint\u001b[0m\u001b[1;33m(\u001b[0m\u001b[0mtest_data_point\u001b[0m\u001b[1;33m)\u001b[0m\u001b[1;33m\u001b[0m\u001b[1;33m\u001b[0m\u001b[0m\n\u001b[1;32m----> 3\u001b[1;33m \u001b[0mData\u001b[0m\u001b[1;33m(\u001b[0m\u001b[0mx\u001b[0m\u001b[1;33m=\u001b[0m\u001b[1;34m't'\u001b[0m\u001b[1;33m)\u001b[0m\u001b[1;33m\u001b[0m\u001b[1;33m\u001b[0m\u001b[0m\n\u001b[0m",
      "\u001b[1;32m<string>\u001b[0m in \u001b[0;36m__init__\u001b[1;34m(self, x, y, kwargs)\u001b[0m\n",
      "\u001b[1;32mc:\\Users\\jackm\\Documents\\GitHub\\jackmckew.dev\\drafts\\2020\\dataclasses-vs-attrs\\.env\\lib\\site-packages\\pydantic\\dataclasses.cp38-win_amd64.pyd\u001b[0m in \u001b[0;36mpydantic.dataclasses._process_class._pydantic_post_init\u001b[1;34m()\u001b[0m\n",
      "\u001b[1;31mValidationError\u001b[0m: 1 validation error for Data\nx\n  value is not a valid float (type=type_error.float)"
     ]
    }
   ],
   "source": [
    "test_data_point = Data(x='123')\n",
    "print(test_data_point)\n",
    "Data(x='t')"
   ]
  },
  {
   "cell_type": "markdown",
   "metadata": {},
   "source": [
    "As we can see above, it gives the developers a nicely formatted error message when the data validation failed, and smoothly sanitises the input when it needs to."
   ]
  }
 ],
 "metadata": {
  "language_info": {
   "codemirror_mode": {
    "name": "ipython",
    "version": 3
   },
   "file_extension": ".py",
   "mimetype": "text/x-python",
   "name": "python",
   "nbconvert_exporter": "python",
   "pygments_lexer": "ipython3",
   "version": "3.8.1-final"
  },
  "orig_nbformat": 2,
  "kernelspec": {
   "name": "python38164bitenvvenv1528877d2aab42a8bb07b5659c677442",
   "display_name": "Python 3.8.1 64-bit ('.env': venv)"
  }
 },
 "nbformat": 4,
 "nbformat_minor": 2
}